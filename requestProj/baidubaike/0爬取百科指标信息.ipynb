{
 "cells": [
  {
   "cell_type": "markdown",
   "metadata": {},
   "source": [
    "由于百科名医上面指标的描述信息太少，因此有了一个想法就是从百度百科上爬取一些信息作为补充\n",
    "\n",
    "给指标加上了abstract，来自百度百科，共335/512"
   ]
  },
  {
   "cell_type": "code",
   "execution_count": 1,
   "metadata": {},
   "outputs": [],
   "source": [
    "import sys\n",
    "sys.path.append('/home/ian/code/github')"
   ]
  },
  {
   "cell_type": "code",
   "execution_count": 27,
   "metadata": {},
   "outputs": [],
   "source": [
    "from utils1.pymongo_wrapper import pymongo_wrapper as pmw\n",
    "client = pmw()\n",
    "table = client.get_collection('intelligent-guidance','disease')"
   ]
  },
  {
   "cell_type": "code",
   "execution_count": 28,
   "metadata": {
    "scrolled": true
   },
   "outputs": [
    {
     "data": {
      "text/plain": [
       "[{'_id': ObjectId('5be8f87f02353bc82e802b96'),\n",
       "  'title': '暗适应',\n",
       "  'English': '--',\n",
       "  'meaning': '锥,杆细胞功能',\n",
       "  'value': '644μV±117μV'},\n",
       " {'_id': ObjectId('5be8f87f02353bc82e802b97'),\n",
       "  'title': '癌胚抗原',\n",
       "  'English': 'CEA',\n",
       "  'meaning': '检测消化道肿瘤',\n",
       "  'value': '<5.0 ng/ml'},\n",
       " {'_id': ObjectId('5be8f87f02353bc82e802b98'),\n",
       "  'title': '艾滋病病毒抗体(人类免疫缺陷病毒)',\n",
       "  'English': 'HIV-Ab',\n",
       "  'meaning': '艾滋病病毒感染者初筛实验',\n",
       "  'value': '阴性'},\n",
       " {'_id': ObjectId('5be8f87f02353bc82e802b99'),\n",
       "  'title': '癌相关抗原',\n",
       "  'English': 'S-Tn ',\n",
       "  'meaning': '消化道肿瘤筛查',\n",
       "  'value': '阴性'},\n",
       " {'_id': ObjectId('5be8f87f02353bc82e802b9a'),\n",
       "  'title': '布氏杆菌凝集试验',\n",
       "  'English': '--',\n",
       "  'meaning': '布氏杆菌病为人畜共患的传染病，人与病畜接触或食用病畜及其乳制品，可引起感染',\n",
       "  'value': '阴性'}]"
      ]
     },
     "execution_count": 28,
     "metadata": {},
     "output_type": "execute_result"
    }
   ],
   "source": [
    "index = list(client.find_all(table))\n",
    "index[:5]"
   ]
  },
  {
   "cell_type": "code",
   "execution_count": 2,
   "metadata": {},
   "outputs": [],
   "source": [
    "from utils1.crawl import requests_wrapper as rw\n",
    "from utils1.crawl import pyquery_wrapper as pw"
   ]
  },
  {
   "cell_type": "code",
   "execution_count": 29,
   "metadata": {},
   "outputs": [],
   "source": [
    "def parse_index(url):\n",
    "    '''\n",
    "    解析指标\n",
    "    '''\n",
    "    r1 = rw.requests_wrapper(url)\n",
    "    html = r1.get_text(encoding='utf8')\n",
    "    d = pw.pyquery_wrapper(html).Root\n",
    "    \n",
    "    return d('div.lemma-summary > div').eq(0).text().strip()"
   ]
  },
  {
   "cell_type": "code",
   "execution_count": 30,
   "metadata": {
    "scrolled": true
   },
   "outputs": [
    {
     "data": {
      "text/plain": [
       "''"
      ]
     },
     "execution_count": 30,
     "metadata": {},
     "output_type": "execute_result"
    }
   ],
   "source": [
    "parse_index('https://baike.baidu.com/item/补体成分3')"
   ]
  },
  {
   "cell_type": "code",
   "execution_count": 15,
   "metadata": {},
   "outputs": [
    {
     "data": {
      "text/plain": [
       "'蛋白C（protein C，PC）是体内重要的抗凝因子，为一种维生素K依赖性酶原，主要在肝脏中合成。其主要作用是活化后可灭活凝血因子Ⅷα与凝血因子Ⅴα，抑制血液凝固。PC、蛋白S、蛋白C抑制物和血栓调节蛋白共同组成机体内重要的抗凝系统——蛋白C抗凝系统，在血液凝固和纤溶过程起着重要的平衡作用。PC是蛋白C抗凝系统最主要的组成成分，其抗凝活性占全血的20%～30%。目前PC的检测一般可分为两类，一类是对其抗原即含量的检测，另一类是对其活性的检测。蛋白C含量（PC:Ag）可以用火箭电泳法、放射免疫分析法和酶联免疫法等对PC的抗原进行定量分析。一般采用特异性较高、较为简便的酶联免疫法。'"
      ]
     },
     "execution_count": 15,
     "metadata": {},
     "output_type": "execute_result"
    }
   ],
   "source": [
    "parse_index('https://baike.baidu.com/item/蛋白C含量')"
   ]
  },
  {
   "cell_type": "code",
   "execution_count": 33,
   "metadata": {
    "scrolled": true
   },
   "outputs": [
    {
     "name": "stdout",
     "output_type": "stream",
     "text": [
      "艾滋病病毒抗体(人类免疫缺陷病毒)\n",
      "癌相关抗原\n",
      "补体3\n",
      "C反应蛋白\n",
      "促甲状腺激素测定\n",
      "促甲状腺受体抗体\n",
      "纯水清除率\n",
      "出血时间(测定器法)\n",
      "超薄细胞检测\n",
      "电解质检查钠\n",
      "单纯疱疹病毒IgG\n",
      "电解质检查氯\n",
      "单纯疱疹病毒IgM\n",
      "单纯疱疹病毒IgM\n",
      "α-酊酸萘酯酶染色\n",
      "多巴胺\n",
      "单纯疱疹病毒直接涂片\n",
      "电解质检查钾\n",
      "EB病毒抗体（IgA/EA，IgA/VCA，IgG/VCA ，IgM/VCA）\n",
      "粪便常规检查粪便虫卵检查\n",
      "肺炎衣原体IgG\n",
      "风疹病毒IgM\n",
      "肺炎衣原体IgM\n",
      "风疹病毒IgG\n",
      "分枝杆菌快速培养（用MB/Alert仪自动培养检测）\n",
      "酚红排泻试验(肌注法)\n",
      "风疹病毒IgM\n",
      "粪便常规检查粪便常规检查\n",
      "肺癌肿瘤标记物检查；神经烯醇化酶\n",
      "粪便厌氧培养\n",
      "粪便常规检查粪便潜血试验\n",
      "粪便常规检查粪便苏丹Ⅲ染色\n",
      "弓形体IgM\n",
      "肝功能检查直接胆红素\n",
      "高铁血红蛋白定量\n",
      "肝功能检查天门冬氨酸氨基转移酶\n",
      "肝功检查碱性磷酸酶\n",
      "骨髓培养＋药敏\n",
      "肝功检查γ-谷氨酰转移酶\n",
      "睾酮\n",
      "肝功能检查谷氨酸氨基转移酶\n",
      "肝功检查乳酸脱氢酶\n",
      "弓形体IgM \n",
      "肝功能检查总蛋白\n",
      "各种无菌体液细菌涂片检查（脑脊液、胸腹水等无菌体液）\n",
      "肝功检查总胆汁酸\n",
      "钙-肌酐\n",
      "肝功能检查白蛋白\n",
      "弓形体IgG\n",
      "肝功检查胆碱酯酶\n",
      "肝功能检查总胆红素\n",
      "红细胞渗透脆性\n",
      "红细胞6磷酸葡萄糖脱氢酶\n",
      "红细胞丙酮酸激酶（荧光斑点法）\n",
      "巨细胞病毒IgM \n",
      "甲状腺微粒体抗体/抗甲状腺微粒体抗体\n",
      "甲状腺过氯酸盐释放试验\n",
      "肌酸激酶同工酶MB（质量）\n",
      "肌钙蛋白Ⅰ\n",
      "甲状旁腺素 \n",
      "畸变产物耳声发射实验\n",
      "静脉营养残液培养和药敏 \n",
      "经食道超声心电图\n",
      "巨细胞病毒IgM\n",
      "巨细胞病毒IgG\n",
      "结肠直肠拭子、粪便培养＋药敏 \n",
      "甲状腺球蛋白抗体/抗甲状腺球蛋白抗体\n",
      "钾\n",
      "抗人球蛋白试验（间接法\n",
      "抗结核抗体\n",
      "抗双链DNA抗体（抗dsDNA抗体）\n",
      "抗线粒体M2型抗体\n",
      "抗肾上腺（皮质）抗体\n",
      "抗链球菌溶血素“O”试验\n",
      "抗胰岛细胞抗体\n",
      "抗肝-肾微粒体抗体\n",
      "淋球菌涂片\n",
      "淋球菌镜检(革兰氏染色)\n",
      "免疫球蛋白E\n",
      "麻疹病毒IgM\n",
      "尿常规检查尿量\n",
      "尿常规检查尿潜血试验\n",
      "尿常规检查尿胆红素定性\n",
      "尿常规检查尿色\n",
      "脑脊液-糖 \n",
      "尿本周蛋白\n",
      "凝血时间试管法\n",
      "尿常规检查透明度\n",
      "尿常规检查尿胆原定性\n",
      "尿白蛋白\n",
      "脑脊液-蛋白\n",
      "尿常规检查尿胆素\n",
      "尿常规检查酸碱反应\n",
      "脑脊液-氯化物\n",
      "尿常规检查比重\n",
      "尿常规检查尿蛋白质定性\n",
      "尿常规检查尿糖定性\n",
      "脓腔引流液、胸水、腹水、尿等无菌体液普通培养＋药敏\n",
      "尿尿素\n",
      "脑脊液普通培养＋药敏 \n",
      "尿常规检查尿酮体定性\n",
      "PP鸡蛋刺激试验\n",
      "02培养\n",
      "17羟孕酮\n",
      "全质控总IgE（CAP法\n",
      "羟丁酸脱氢酶\n",
      "全血粘度   (切变率:3.83)\n",
      "羟辅氨酸\n",
      "全血粘度   (切变率:38.3)\n",
      "全血粘度   (切变率:192)\n",
      "人毛膜促性腺激素\n",
      "生长介素\n",
      "沙眼衣原体IgM\n",
      "视诱发电位\n",
      "肾功能检查尿酸\n",
      "肾功能检查肌酐\n",
      "肾功能检查尿素氮\n",
      "leflunomide药物浓度 \n",
      "食管测压和刺激试验\n",
      "沙眼衣原体IgG\n",
      "糖抗原19-9\n",
      "头虱,体虱,阴虱镜检皮损\n",
      "痰、额窦脓、咽拭子、口腔、鼻、耳、结膜培养＋药敏\n",
      "T3树脂摄取试验(化学发光法)\n",
      "T细胞B细胞亚群（CD3，CD4，CD8，CD19）\n",
      "糖抗原125\n",
      "同型半胱氨酸\n",
      "β2-微球蛋白（尿）\n",
      "胃液胆汁十二指肠液培养+药敏\n",
      "无菌体液、尿、痰等标本涂片查抗酸杆菌 \n",
      "β2-微球蛋白（血）\n",
      "血常规检查平均红细胞血红蛋白浓度\n",
      "血常规检查红细胞计数\n",
      "血常规检查血小板体积分布宽度\n",
      "血常规检查白细胞分类计数中性分叶粒细胞\n",
      "细胞免疫分型\n",
      "\n",
      "血液培养及无菌体液培养（用Bact/Alert仪自动培养检测）包括需氧瓶和厌氧瓶\n",
      "血常规检查网织红细胞计数和网织红细胞分析\n",
      "血常规检查细胞血红蛋白量（平均值）\n",
      "血沉\n",
      "血常规检查白细胞分类计数嗜酸性粒细胞\n",
      "血常规检查嗜酸性粒细胞直接计数\n",
      "12小时尿沉渣计数（Addis计数）\n",
      "血常规检查白细胞分类计数嗜碱性粒细胞\n",
      "新升儿释放抗体、脐血三项\n",
      "血清酮氧化酶吸光度\n",
      "血常规检查白细胞分类计数淋巴细胞\n",
      "血常规检查细胞血红蛋白浓度（平均值）\n",
      "血常规检查血红蛋白\n",
      "血常规检查白细胞分类计数单核细胞\n",
      "血常规检查血红蛋白浓度分布宽度\n",
      "24小时尿蛋白排泄量\n",
      "血常规检查红细胞压积\n",
      "血常规检查血小板计数\n",
      "限水试验及垂体后叶素试验(血尿渗透压测定)\n",
      "血常规检查红细胞体积分布宽度\n",
      "血常规检查平均血小板体积\n",
      "24小时食管（胃管）pH监测\n",
      "血常规检查平均红细胞体积\n",
      "新生儿血糖\n",
      "血常规检查白细胞计数\n",
      "血常规检查血小板压积\n",
      "血常规检查平均红细胞血红蛋白\n",
      "血常规检查白细胞分类计数中性杆状核细胞\n",
      "阴道拭子普通培养＋药敏 \n",
      "眼压测量\n",
      "游离钙\n",
      "鹦鹉热衣原体IgG\n",
      "胰功定实验\n",
      "鹦鹉热衣原体IgG\n",
      "脂蛋白（a）\n",
      "震荡试验\n",
      "总甲状腺素测定\n",
      "载脂蛋白A-Ⅱ\n",
      "载脂蛋白C-Ⅱ\n",
      "载脂蛋白B\n",
      "载脂蛋白C-Ⅲ\n"
     ]
    }
   ],
   "source": [
    "count = 0\n",
    "for i in index:\n",
    "    \n",
    "    try:\n",
    "        i['abstract1'] = parse_index('https://baike.baidu.com/item/{}'.format(i['title']))\n",
    "        client.update_doc(table,{'_id': i['_id']},{'abstract1':i['abstract1']})\n",
    "        count += 1\n",
    "    except Exception as e:\n",
    "        print(i['title'])"
   ]
  },
  {
   "cell_type": "code",
   "execution_count": 34,
   "metadata": {},
   "outputs": [
    {
     "data": {
      "text/plain": [
       "335"
      ]
     },
     "execution_count": 34,
     "metadata": {},
     "output_type": "execute_result"
    }
   ],
   "source": [
    "count"
   ]
  },
  {
   "cell_type": "code",
   "execution_count": null,
   "metadata": {},
   "outputs": [],
   "source": []
  }
 ],
 "metadata": {
  "kernelspec": {
   "display_name": "Python 3",
   "language": "python",
   "name": "python3"
  },
  "language_info": {
   "codemirror_mode": {
    "name": "ipython",
    "version": 3
   },
   "file_extension": ".py",
   "mimetype": "text/x-python",
   "name": "python",
   "nbconvert_exporter": "python",
   "pygments_lexer": "ipython3",
   "version": "3.6.5"
  }
 },
 "nbformat": 4,
 "nbformat_minor": 2
}
