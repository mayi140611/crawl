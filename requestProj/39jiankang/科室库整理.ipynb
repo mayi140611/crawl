{
 "cells": [
  {
   "cell_type": "markdown",
   "metadata": {},
   "source": [
    "* 一是把科室库弄出来给壮壮处理  \n",
    "* 二是把壮壮处理好的科室库写回MongoDB  "
   ]
  },
  {
   "cell_type": "code",
   "execution_count": 4,
   "metadata": {},
   "outputs": [],
   "source": [
    "import sys\n",
    "sys.path.append('/home/ian/code/github')"
   ]
  },
  {
   "cell_type": "code",
   "execution_count": 2,
   "metadata": {},
   "outputs": [],
   "source": [
    "from utils import pymongo_wrapper\n",
    "pmw = pymongo_wrapper.pymongo_wrapper()\n",
    "symptoms = pmw.get_collection('jiankang39','diseases')"
   ]
  },
  {
   "cell_type": "code",
   "execution_count": 3,
   "metadata": {},
   "outputs": [],
   "source": [
    "deps = list(pmw.find_all(symptoms,fieldlist=['挂号的科室']))"
   ]
  },
  {
   "cell_type": "code",
   "execution_count": 10,
   "metadata": {},
   "outputs": [
    {
     "data": {
      "text/plain": [
       "[{'挂号的科室': '神经内科'},\n",
       " {'挂号的科室': '神经内科'},\n",
       " {'挂号的科室': '脑外科 血管外科'},\n",
       " {'挂号的科室': '脑外科 血管外科'},\n",
       " {'挂号的科室': '神经内科 中医科'},\n",
       " {},\n",
       " {'挂号的科室': '神经内科'},\n",
       " {'挂号的科室': '神经内科'},\n",
       " {'挂号的科室': '神经内科 耳鼻喉科'},\n",
       " {'挂号的科室': '脑外科 传染科'}]"
      ]
     },
     "execution_count": 10,
     "metadata": {},
     "output_type": "execute_result"
    }
   ],
   "source": [
    "deps[:10]"
   ]
  },
  {
   "cell_type": "code",
   "execution_count": 9,
   "metadata": {},
   "outputs": [],
   "source": [
    "s = set()"
   ]
  },
  {
   "cell_type": "code",
   "execution_count": 18,
   "metadata": {},
   "outputs": [],
   "source": [
    "depss = list({d for i in deps for d in i.get('挂号的科室','').strip().split() if d})"
   ]
  },
  {
   "cell_type": "code",
   "execution_count": 22,
   "metadata": {},
   "outputs": [
    {
     "data": {
      "text/plain": [
       "['胃肠外科',\n",
       " '外伤科',\n",
       " '性病科',\n",
       " '男科',\n",
       " '手外科',\n",
       " '传染科',\n",
       " '肾内科',\n",
       " '皮肤科',\n",
       " '呼吸内科',\n",
       " '内科',\n",
       " '消化内科',\n",
       " '内分泌科',\n",
       " '肛肠外科',\n",
       " '儿科',\n",
       " '妇产科',\n",
       " '血液科',\n",
       " '乳腺外科',\n",
       " '急诊科',\n",
       " '肝炎',\n",
       " '脑外科',\n",
       " '生殖健康',\n",
       " '体检保健科',\n",
       " '妇科',\n",
       " '烧伤科',\n",
       " '血管外科',\n",
       " '风湿科',\n",
       " '肝胆外科',\n",
       " '中西医结合科',\n",
       " '中医科',\n",
       " '心血管内科',\n",
       " '骨科',\n",
       " '皮肤性病',\n",
       " '老年科',\n",
       " '耳鼻喉科',\n",
       " '器官移植',\n",
       " '泌尿外科',\n",
       " '心理咨询',\n",
       " '口腔科',\n",
       " '精神病科',\n",
       " '心胸外科',\n",
       " '五官科',\n",
       " '营养科',\n",
       " '肝病',\n",
       " '成瘾医学科',\n",
       " '肿瘤科',\n",
       " '外科',\n",
       " '针灸科',\n",
       " '产科',\n",
       " '精神心理科',\n",
       " '眼科',\n",
       " '普外科',\n",
       " '神经内科']"
      ]
     },
     "execution_count": 22,
     "metadata": {},
     "output_type": "execute_result"
    }
   ],
   "source": [
    "depss"
   ]
  },
  {
   "cell_type": "code",
   "execution_count": 23,
   "metadata": {},
   "outputs": [],
   "source": [
    "from utils import pandas_wrapper"
   ]
  },
  {
   "cell_type": "code",
   "execution_count": 24,
   "metadata": {},
   "outputs": [],
   "source": [
    "pdw = pandas_wrapper.pandas_wrapper()"
   ]
  },
  {
   "cell_type": "code",
   "execution_count": 25,
   "metadata": {},
   "outputs": [],
   "source": [
    "df = pdw.build_df_with_dict({'科室': depss})"
   ]
  },
  {
   "cell_type": "code",
   "execution_count": 27,
   "metadata": {},
   "outputs": [],
   "source": [
    "df.to_csv('deps.csv',encoding='gbk')"
   ]
  },
  {
   "cell_type": "markdown",
   "metadata": {},
   "source": [
    "### 二是把壮壮处理好的科室库写回MongoDB"
   ]
  },
  {
   "cell_type": "code",
   "execution_count": 6,
   "metadata": {},
   "outputs": [],
   "source": [
    "from utils.pandas_wrapper import pandas_wrapper as pdw\n",
    "import pandas as pd"
   ]
  },
  {
   "cell_type": "code",
   "execution_count": 9,
   "metadata": {},
   "outputs": [
    {
     "data": {
      "text/html": [
       "<div>\n",
       "<style scoped>\n",
       "    .dataframe tbody tr th:only-of-type {\n",
       "        vertical-align: middle;\n",
       "    }\n",
       "\n",
       "    .dataframe tbody tr th {\n",
       "        vertical-align: top;\n",
       "    }\n",
       "\n",
       "    .dataframe thead th {\n",
       "        text-align: right;\n",
       "    }\n",
       "</style>\n",
       "<table border=\"1\" class=\"dataframe\">\n",
       "  <thead>\n",
       "    <tr style=\"text-align: right;\">\n",
       "      <th></th>\n",
       "      <th>序号</th>\n",
       "      <th>科室</th>\n",
       "      <th>代码</th>\n",
       "      <th>限定性别</th>\n",
       "      <th>限定年龄</th>\n",
       "      <th>Unnamed: 5</th>\n",
       "    </tr>\n",
       "  </thead>\n",
       "  <tbody>\n",
       "    <tr>\n",
       "      <th>0</th>\n",
       "      <td>0</td>\n",
       "      <td>胃肠外科</td>\n",
       "      <td></td>\n",
       "      <td></td>\n",
       "      <td></td>\n",
       "      <td></td>\n",
       "    </tr>\n",
       "    <tr>\n",
       "      <th>1</th>\n",
       "      <td>1</td>\n",
       "      <td>外伤科</td>\n",
       "      <td></td>\n",
       "      <td></td>\n",
       "      <td></td>\n",
       "      <td></td>\n",
       "    </tr>\n",
       "    <tr>\n",
       "      <th>2</th>\n",
       "      <td>2</td>\n",
       "      <td>性病科</td>\n",
       "      <td></td>\n",
       "      <td></td>\n",
       "      <td></td>\n",
       "      <td></td>\n",
       "    </tr>\n",
       "    <tr>\n",
       "      <th>3</th>\n",
       "      <td>3</td>\n",
       "      <td>男科</td>\n",
       "      <td></td>\n",
       "      <td>1</td>\n",
       "      <td>4567</td>\n",
       "      <td></td>\n",
       "    </tr>\n",
       "    <tr>\n",
       "      <th>4</th>\n",
       "      <td>4</td>\n",
       "      <td>手外科</td>\n",
       "      <td></td>\n",
       "      <td></td>\n",
       "      <td></td>\n",
       "      <td></td>\n",
       "    </tr>\n",
       "  </tbody>\n",
       "</table>\n",
       "</div>"
      ],
      "text/plain": [
       "   序号    科室 代码 限定性别  限定年龄 Unnamed: 5\n",
       "0   0  胃肠外科                         \n",
       "1   1   外伤科                         \n",
       "2   2   性病科                         \n",
       "3   3    男科       1  4567           \n",
       "4   4   手外科                         "
      ]
     },
     "execution_count": 9,
     "metadata": {},
     "output_type": "execute_result"
    }
   ],
   "source": [
    "df = pd.read_csv('/home/ian/code/data/daozhen/AI科室-处理.csv',encoding='gbk').fillna('')\n",
    "df.head()"
   ]
  },
  {
   "cell_type": "code",
   "execution_count": 20,
   "metadata": {},
   "outputs": [],
   "source": [
    "d = dict()\n",
    "for line in df.itertuples():\n",
    "    gender = [0,1]\n",
    "    if line[4]:\n",
    "        gender = [int(line[4])-1]\n",
    "    age = list('1234567')\n",
    "    if line[5]:\n",
    "        age = list(str(int(line[5])))\n",
    "    other = [0,1,2]\n",
    "    if line[6]:\n",
    "        other = [1,2]    \n",
    "    d[line[2]] = (gender, age, other)"
   ]
  },
  {
   "cell_type": "code",
   "execution_count": 16,
   "metadata": {},
   "outputs": [],
   "source": [
    "from utils.pickle_wrapper import pickle_wrapper as pkw"
   ]
  },
  {
   "cell_type": "code",
   "execution_count": 21,
   "metadata": {},
   "outputs": [],
   "source": [
    "pkw.dump2file(d, '/home/ian/code/data/daozhen/ksdict.pkl')"
   ]
  },
  {
   "cell_type": "code",
   "execution_count": null,
   "metadata": {},
   "outputs": [],
   "source": []
  }
 ],
 "metadata": {
  "kernelspec": {
   "display_name": "Python 3",
   "language": "python",
   "name": "python3"
  },
  "language_info": {
   "codemirror_mode": {
    "name": "ipython",
    "version": 3
   },
   "file_extension": ".py",
   "mimetype": "text/x-python",
   "name": "python",
   "nbconvert_exporter": "python",
   "pygments_lexer": "ipython3",
   "version": "3.6.5"
  }
 },
 "nbformat": 4,
 "nbformat_minor": 2
}
