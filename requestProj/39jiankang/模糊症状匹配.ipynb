{
 "cells": [
  {
   "cell_type": "code",
   "execution_count": 1,
   "metadata": {},
   "outputs": [],
   "source": [
    "import sys\n",
    "sys.path.append('/home/ian/code/github')"
   ]
  },
  {
   "cell_type": "markdown",
   "metadata": {},
   "source": [
    "## 获取症状列表"
   ]
  },
  {
   "cell_type": "code",
   "execution_count": 2,
   "metadata": {},
   "outputs": [
    {
     "name": "stdout",
     "output_type": "stream",
     "text": [
      "CPU times: user 609 ms, sys: 99.6 ms, total: 708 ms\n",
      "Wall time: 717 ms\n"
     ]
    }
   ],
   "source": [
    "%%time\n",
    "from model import model_wrapper"
   ]
  },
  {
   "cell_type": "code",
   "execution_count": 3,
   "metadata": {},
   "outputs": [
    {
     "name": "stdout",
     "output_type": "stream",
     "text": [
      "CPU times: user 43 s, sys: 2.43 s, total: 45.4 s\n",
      "Wall time: 45.5 s\n"
     ]
    }
   ],
   "source": [
    "%%time\n",
    "model = model_wrapper()"
   ]
  },
  {
   "cell_type": "code",
   "execution_count": 4,
   "metadata": {
    "scrolled": true
   },
   "outputs": [
    {
     "name": "stderr",
     "output_type": "stream",
     "text": [
      "Building prefix dict from the default dictionary ...\n",
      "Loading model from cache /tmp/jieba.cache\n",
      "Loading model cost 0.580 seconds.\n"
     ]
    },
    {
     "name": "stdout",
     "output_type": "stream",
     "text": [
      "牙肿\n"
     ]
    },
    {
     "name": "stderr",
     "output_type": "stream",
     "text": [
      "Prefix dict has been built succesfully.\n",
      "/home/ian/code/github/crawl/requestProj/39jiankang/model.py:62: RuntimeWarning: invalid value encountered in double_scalars\n",
      "  return np.dot(v1, v2) / (norm(v1) * norm(v2))\n"
     ]
    },
    {
     "name": "stdout",
     "output_type": "stream",
     "text": [
      "['口']\n",
      "288\n"
     ]
    },
    {
     "data": {
      "text/plain": [
       "['牙疼', '牙周脓肿', '齿龈炎']"
      ]
     },
     "execution_count": 4,
     "metadata": {},
     "output_type": "execute_result"
    }
   ],
   "source": [
    "model.get_zzs('我牙肿了','男','1')"
   ]
  },
  {
   "cell_type": "code",
   "execution_count": 36,
   "metadata": {},
   "outputs": [
    {
     "name": "stdout",
     "output_type": "stream",
     "text": [
      "头疼\n"
     ]
    },
    {
     "name": "stderr",
     "output_type": "stream",
     "text": [
      "/home/ian/code/github/crawl/requestProj/39jiankang/model.py:62: RuntimeWarning: invalid value encountered in double_scalars\n",
      "  return np.dot(v1, v2) / (norm(v1) * norm(v2))\n"
     ]
    },
    {
     "name": "stdout",
     "output_type": "stream",
     "text": [
      "['颅脑']\n",
      "202\n"
     ]
    },
    {
     "data": {
      "text/plain": [
       "['头昏',\n",
       " '头晕',\n",
       " '头沉',\n",
       " '头痛',\n",
       " '头胀',\n",
       " '情绪性头痛',\n",
       " '颅外头痛',\n",
       " '顽固性头痛',\n",
       " '间歇性头痛',\n",
       " '慢性头痛',\n",
       " '颅内头痛',\n",
       " '单侧头痛',\n",
       " '全头痛']"
      ]
     },
     "execution_count": 36,
     "metadata": {},
     "output_type": "execute_result"
    }
   ],
   "source": [
    "model.get_zzs('头疼')"
   ]
  },
  {
   "cell_type": "code",
   "execution_count": 38,
   "metadata": {
    "scrolled": false
   },
   "outputs": [
    {
     "name": "stdout",
     "output_type": "stream",
     "text": [
      "皮疼\n"
     ]
    },
    {
     "name": "stderr",
     "output_type": "stream",
     "text": [
      "/home/ian/code/github/crawl/requestProj/39jiankang/model.py:62: RuntimeWarning: invalid value encountered in double_scalars\n",
      "  return np.dot(v1, v2) / (norm(v1) * norm(v2))\n"
     ]
    },
    {
     "name": "stdout",
     "output_type": "stream",
     "text": [
      "['皮肤及毛发']\n",
      "0\n"
     ]
    },
    {
     "data": {
      "text/plain": [
       "[]"
      ]
     },
     "execution_count": 38,
     "metadata": {},
     "output_type": "execute_result"
    }
   ],
   "source": [
    "model.get_zzs('皮疼')"
   ]
  },
  {
   "cell_type": "code",
   "execution_count": 57,
   "metadata": {
    "scrolled": false
   },
   "outputs": [
    {
     "name": "stdout",
     "output_type": "stream",
     "text": [
      "腿疼\n"
     ]
    },
    {
     "name": "stderr",
     "output_type": "stream",
     "text": [
      "/home/ian/code/github/crawl/requestProj/39jiankang/model.py:62: RuntimeWarning: invalid value encountered in double_scalars\n",
      "  return np.dot(v1, v2) / (norm(v1) * norm(v2))\n"
     ]
    },
    {
     "name": "stdout",
     "output_type": "stream",
     "text": [
      "['腿']\n",
      "90\n"
     ]
    },
    {
     "data": {
      "text/plain": [
       "[]"
      ]
     },
     "execution_count": 57,
     "metadata": {},
     "output_type": "execute_result"
    }
   ],
   "source": [
    "model.get_zzs('我腿疼')"
   ]
  },
  {
   "cell_type": "code",
   "execution_count": 30,
   "metadata": {},
   "outputs": [
    {
     "name": "stdout",
     "output_type": "stream",
     "text": [
      "肚子腹部痛\n"
     ]
    },
    {
     "name": "stderr",
     "output_type": "stream",
     "text": [
      "/home/ian/code/github/crawl/requestProj/39jiankang/model.py:62: RuntimeWarning: invalid value encountered in double_scalars\n",
      "  return np.dot(v1, v2) / (norm(v1) * norm(v2))\n"
     ]
    },
    {
     "name": "stdout",
     "output_type": "stream",
     "text": [
      "['腹部']\n",
      "191\n"
     ]
    },
    {
     "data": {
      "text/plain": [
       "['肚子疼', '慢性腹痛', '右下腹痛', '小腹冷痛', '右上腹压痛', '左下腹压痛', '上腹部压痛', '右下腹压痛', '左下腹痛']"
      ]
     },
     "execution_count": 30,
     "metadata": {},
     "output_type": "execute_result"
    }
   ],
   "source": [
    "model.get_zzs('我感觉肚子痛')"
   ]
  },
  {
   "cell_type": "code",
   "execution_count": 6,
   "metadata": {},
   "outputs": [
    {
     "name": "stdout",
     "output_type": "stream",
     "text": [
      "发烧\n"
     ]
    },
    {
     "data": {
      "text/plain": [
       "'发烧'"
      ]
     },
     "execution_count": 6,
     "metadata": {},
     "output_type": "execute_result"
    }
   ],
   "source": [
    "model.get_zzs('我有点发烧')"
   ]
  },
  {
   "cell_type": "code",
   "execution_count": 7,
   "metadata": {},
   "outputs": [
    {
     "name": "stdout",
     "output_type": "stream",
     "text": [
      "失眠\n"
     ]
    },
    {
     "data": {
      "text/plain": [
       "'失眠'"
      ]
     },
     "execution_count": 7,
     "metadata": {},
     "output_type": "execute_result"
    }
   ],
   "source": [
    "model.get_zzs('我睡不着觉')"
   ]
  },
  {
   "cell_type": "code",
   "execution_count": 8,
   "metadata": {},
   "outputs": [
    {
     "name": "stdout",
     "output_type": "stream",
     "text": [
      "头晕\n"
     ]
    },
    {
     "data": {
      "text/plain": [
       "'头晕'"
      ]
     },
     "execution_count": 8,
     "metadata": {},
     "output_type": "execute_result"
    }
   ],
   "source": [
    "model.get_zzs('我感觉头有点晕')"
   ]
  },
  {
   "cell_type": "code",
   "execution_count": 9,
   "metadata": {},
   "outputs": [
    {
     "name": "stdout",
     "output_type": "stream",
     "text": [
      "上臂上肢前臂疼痛\n"
     ]
    },
    {
     "name": "stderr",
     "output_type": "stream",
     "text": [
      "/home/ian/code/github/crawl/requestProj/39jiankang/model.py:62: RuntimeWarning: invalid value encountered in double_scalars\n",
      "  return np.dot(v1, v2) / (norm(v1) * norm(v2))\n"
     ]
    },
    {
     "name": "stdout",
     "output_type": "stream",
     "text": [
      "['臂']\n",
      "18\n"
     ]
    },
    {
     "data": {
      "text/plain": [
       "['前臂外伤后疼痛', '前臂和腕部的疼痛', '伸臂握手疼痛']"
      ]
     },
     "execution_count": 9,
     "metadata": {},
     "output_type": "execute_result"
    }
   ],
   "source": [
    "model.get_zzs('我感觉胳膊有点疼痛')"
   ]
  },
  {
   "cell_type": "code",
   "execution_count": 10,
   "metadata": {},
   "outputs": [
    {
     "name": "stdout",
     "output_type": "stream",
     "text": [
      "肚子腹部痛\n"
     ]
    },
    {
     "name": "stderr",
     "output_type": "stream",
     "text": [
      "/home/ian/code/github/crawl/requestProj/39jiankang/model.py:62: RuntimeWarning: invalid value encountered in double_scalars\n",
      "  return np.dot(v1, v2) / (norm(v1) * norm(v2))\n"
     ]
    },
    {
     "name": "stdout",
     "output_type": "stream",
     "text": [
      "['腹部']\n",
      "191\n"
     ]
    },
    {
     "data": {
      "text/plain": [
       "['肚子疼', '慢性腹痛', '右下腹痛', '小腹冷痛', '右上腹压痛', '左下腹压痛', '上腹部压痛', '右下腹压痛', '左下腹痛']"
      ]
     },
     "execution_count": 10,
     "metadata": {},
     "output_type": "execute_result"
    }
   ],
   "source": [
    "model.get_zzs('我感觉肚子有点痛')"
   ]
  },
  {
   "cell_type": "code",
   "execution_count": 11,
   "metadata": {},
   "outputs": [
    {
     "name": "stdout",
     "output_type": "stream",
     "text": [
      "脚足痛\n"
     ]
    },
    {
     "name": "stderr",
     "output_type": "stream",
     "text": [
      "/home/ian/code/github/crawl/requestProj/39jiankang/model.py:62: RuntimeWarning: invalid value encountered in double_scalars\n",
      "  return np.dot(v1, v2) / (norm(v1) * norm(v2))\n"
     ]
    },
    {
     "name": "stdout",
     "output_type": "stream",
     "text": [
      "['脚']\n",
      "85\n"
     ]
    },
    {
     "data": {
      "text/plain": [
       "['足痛', '脚趾痛']"
      ]
     },
     "execution_count": 11,
     "metadata": {},
     "output_type": "execute_result"
    }
   ],
   "source": [
    "model.get_zzs('我感觉脚有点痛')"
   ]
  },
  {
   "cell_type": "code",
   "execution_count": 12,
   "metadata": {},
   "outputs": [
    {
     "name": "stdout",
     "output_type": "stream",
     "text": [
      "小腿下肢疼\n"
     ]
    },
    {
     "name": "stderr",
     "output_type": "stream",
     "text": [
      "/home/ian/code/github/crawl/requestProj/39jiankang/model.py:62: RuntimeWarning: invalid value encountered in double_scalars\n",
      "  return np.dot(v1, v2) / (norm(v1) * norm(v2))\n"
     ]
    },
    {
     "name": "stdout",
     "output_type": "stream",
     "text": [
      "['腿']\n",
      "94\n"
     ]
    },
    {
     "data": {
      "text/plain": [
       "['小腿溃疡', '小腿肚抽筋', '小腿酸痛', '小腿水肿', '小腿发胀', '大腿外侧痛', '孕妇小腿痒']"
      ]
     },
     "execution_count": 12,
     "metadata": {},
     "output_type": "execute_result"
    }
   ],
   "source": [
    "model.get_zzs('我感觉小腿有点疼','女','5','孕妇')"
   ]
  },
  {
   "cell_type": "code",
   "execution_count": 13,
   "metadata": {},
   "outputs": [
    {
     "name": "stdout",
     "output_type": "stream",
     "text": [
      "小腿下肢疼\n"
     ]
    },
    {
     "name": "stderr",
     "output_type": "stream",
     "text": [
      "/home/ian/code/github/crawl/requestProj/39jiankang/model.py:62: RuntimeWarning: invalid value encountered in double_scalars\n",
      "  return np.dot(v1, v2) / (norm(v1) * norm(v2))\n"
     ]
    },
    {
     "name": "stdout",
     "output_type": "stream",
     "text": [
      "['腿']\n",
      "90\n"
     ]
    },
    {
     "data": {
      "text/plain": [
       "['小腿溃疡', '小腿肚抽筋', '小腿酸痛', '小腿水肿', '小腿发胀', '大腿外侧痛']"
      ]
     },
     "execution_count": 13,
     "metadata": {},
     "output_type": "execute_result"
    }
   ],
   "source": [
    "model.get_zzs('我感觉小腿有点疼','女','5')"
   ]
  },
  {
   "cell_type": "code",
   "execution_count": 14,
   "metadata": {},
   "outputs": [
    {
     "name": "stdout",
     "output_type": "stream",
     "text": [
      "小腿下肢疼\n"
     ]
    },
    {
     "name": "stderr",
     "output_type": "stream",
     "text": [
      "/home/ian/code/github/crawl/requestProj/39jiankang/model.py:62: RuntimeWarning: invalid value encountered in double_scalars\n",
      "  return np.dot(v1, v2) / (norm(v1) * norm(v2))\n"
     ]
    },
    {
     "name": "stdout",
     "output_type": "stream",
     "text": [
      "['腿']\n",
      "91\n"
     ]
    },
    {
     "data": {
      "text/plain": [
       "['小腿溃疡', '小腿肚抽筋', '小腿酸痛', '小腿水肿', '小腿发胀', '大腿外侧痛']"
      ]
     },
     "execution_count": 14,
     "metadata": {},
     "output_type": "execute_result"
    }
   ],
   "source": [
    "model.get_zzs('我感觉小腿有点疼','男','1')"
   ]
  },
  {
   "cell_type": "code",
   "execution_count": 40,
   "metadata": {},
   "outputs": [
    {
     "name": "stdout",
     "output_type": "stream",
     "text": [
      "腰痛\n"
     ]
    },
    {
     "name": "stderr",
     "output_type": "stream",
     "text": [
      "/home/ian/code/github/crawl/requestProj/39jiankang/model.py:62: RuntimeWarning: invalid value encountered in double_scalars\n",
      "  return np.dot(v1, v2) / (norm(v1) * norm(v2))\n"
     ]
    },
    {
     "name": "stdout",
     "output_type": "stream",
     "text": [
      "['腰部']\n",
      "36\n"
     ]
    },
    {
     "data": {
      "text/plain": [
       "['腰酸']"
      ]
     },
     "execution_count": 40,
     "metadata": {},
     "output_type": "execute_result"
    }
   ],
   "source": [
    "model.get_zzs('腰痛')"
   ]
  },
  {
   "cell_type": "code",
   "execution_count": 16,
   "metadata": {},
   "outputs": [
    {
     "name": "stdout",
     "output_type": "stream",
     "text": [
      "恶心与呕吐\n"
     ]
    },
    {
     "data": {
      "text/plain": [
       "'恶心与呕吐'"
      ]
     },
     "execution_count": 16,
     "metadata": {},
     "output_type": "execute_result"
    }
   ],
   "source": [
    "model.get_zzs('我感觉有点想吐','女','1')"
   ]
  },
  {
   "cell_type": "code",
   "execution_count": 17,
   "metadata": {},
   "outputs": [
    {
     "name": "stdout",
     "output_type": "stream",
     "text": [
      "恶心与呕吐\n"
     ]
    },
    {
     "data": {
      "text/plain": [
       "'恶心与呕吐'"
      ]
     },
     "execution_count": 17,
     "metadata": {},
     "output_type": "execute_result"
    }
   ],
   "source": [
    "model.get_zzs('我感觉有点想吐','男','1')"
   ]
  },
  {
   "cell_type": "code",
   "execution_count": 16,
   "metadata": {},
   "outputs": [
    {
     "name": "stdout",
     "output_type": "stream",
     "text": [
      "脸上长个痘痘\n"
     ]
    },
    {
     "name": "stderr",
     "output_type": "stream",
     "text": [
      "/home/ian/code/github/crawl/requestProj/39jiankang/model.py:60: RuntimeWarning: invalid value encountered in double_scalars\n",
      "  return np.dot(v1, v2) / (norm(v1) * norm(v2))\n"
     ]
    },
    {
     "name": "stdout",
     "output_type": "stream",
     "text": [
      "['面部']\n",
      "135\n"
     ]
    },
    {
     "data": {
      "text/plain": [
       "['脸上长斑', '头上长疙瘩', '脸上黑斑', '下巴长痘', '宝宝脸上长红疙瘩', '脸颊发灰', '雀斑']"
      ]
     },
     "execution_count": 16,
     "metadata": {},
     "output_type": "execute_result"
    }
   ],
   "source": [
    "model.get_zzs('我脸上长了个痘痘')"
   ]
  },
  {
   "cell_type": "code",
   "execution_count": 58,
   "metadata": {},
   "outputs": [
    {
     "ename": "AttributeError",
     "evalue": "'model_wrapper' object has no attribute '_tongxianmatr'",
     "output_type": "error",
     "traceback": [
      "\u001b[0;31m---------------------------------------------------------------------------\u001b[0m",
      "\u001b[0;31mAttributeError\u001b[0m                            Traceback (most recent call last)",
      "\u001b[0;32m<ipython-input-58-7e6045f947d3>\u001b[0m in \u001b[0;36m<module>\u001b[0;34m()\u001b[0m\n\u001b[0;32m----> 1\u001b[0;31m \u001b[0mmodel\u001b[0m\u001b[0;34m.\u001b[0m\u001b[0mzz2zz\u001b[0m\u001b[0;34m(\u001b[0m\u001b[0;34m[\u001b[0m\u001b[0;34m'背部长痘'\u001b[0m\u001b[0;34m,\u001b[0m \u001b[0;34m'头沉'\u001b[0m\u001b[0;34m]\u001b[0m\u001b[0;34m)\u001b[0m\u001b[0;34m\u001b[0m\u001b[0m\n\u001b[0m",
      "\u001b[0;32m~/code/github/crawl/requestProj/39jiankang/model.py\u001b[0m in \u001b[0;36mzz2zz\u001b[0;34m(self, zzlist1)\u001b[0m\n\u001b[1;32m    112\u001b[0m             \u001b[0mr\u001b[0m \u001b[0;34m=\u001b[0m \u001b[0;32mNone\u001b[0m\u001b[0;34m\u001b[0m\u001b[0m\n\u001b[1;32m    113\u001b[0m             \u001b[0;32mfor\u001b[0m \u001b[0mi\u001b[0m \u001b[0;32min\u001b[0m \u001b[0mt\u001b[0m\u001b[0;34m:\u001b[0m\u001b[0;34m\u001b[0m\u001b[0m\n\u001b[0;32m--> 114\u001b[0;31m                 \u001b[0;32mif\u001b[0m \u001b[0;32mnot\u001b[0m \u001b[0mr\u001b[0m\u001b[0;34m:\u001b[0m\u001b[0;34m\u001b[0m\u001b[0m\n\u001b[0m\u001b[1;32m    115\u001b[0m                     \u001b[0mr\u001b[0m \u001b[0;34m=\u001b[0m \u001b[0mself\u001b[0m\u001b[0;34m.\u001b[0m\u001b[0m_tongxianmatr\u001b[0m\u001b[0;34m[\u001b[0m\u001b[0mi\u001b[0m\u001b[0;34m]\u001b[0m\u001b[0;34m\u001b[0m\u001b[0m\n\u001b[1;32m    116\u001b[0m                 \u001b[0;32melse\u001b[0m\u001b[0;34m:\u001b[0m\u001b[0;34m\u001b[0m\u001b[0m\n",
      "\u001b[0;31mAttributeError\u001b[0m: 'model_wrapper' object has no attribute '_tongxianmatr'"
     ]
    }
   ],
   "source": [
    "model.zz2zz(['背部长痘', '头沉'])"
   ]
  },
  {
   "cell_type": "code",
   "execution_count": 19,
   "metadata": {},
   "outputs": [
    {
     "name": "stdout",
     "output_type": "stream",
     "text": [
      "眼睛困\n"
     ]
    },
    {
     "name": "stderr",
     "output_type": "stream",
     "text": [
      "/home/ian/code/github/crawl/requestProj/39jiankang/model.py:60: RuntimeWarning: invalid value encountered in double_scalars\n",
      "  return np.dot(v1, v2) / (norm(v1) * norm(v2))\n"
     ]
    },
    {
     "name": "stdout",
     "output_type": "stream",
     "text": [
      "['眼']\n",
      "283\n"
     ]
    },
    {
     "data": {
      "text/plain": [
       "['眼睛痒',\n",
       " '眼痛',\n",
       " '眼干',\n",
       " '眼屎多',\n",
       " '眼缺陷',\n",
       " '眼睛发红',\n",
       " '眼睛刺痛',\n",
       " '眼皮跳',\n",
       " '眼充血',\n",
       " '眼袋',\n",
       " '眼睛胀痛',\n",
       " '眼睛干涩',\n",
       " '孕期眼睛干燥',\n",
       " '眼肌麻痹',\n",
       " '两眼干涩',\n",
       " '眼疲劳']"
      ]
     },
     "execution_count": 19,
     "metadata": {},
     "output_type": "execute_result"
    }
   ],
   "source": [
    "model.get_zzs('我眼睛困')"
   ]
  },
  {
   "cell_type": "code",
   "execution_count": null,
   "metadata": {},
   "outputs": [],
   "source": []
  },
  {
   "cell_type": "code",
   "execution_count": null,
   "metadata": {},
   "outputs": [],
   "source": [
    "# from utils.pymongo_wrapper import pymongo_wrapper as pmw\n",
    "\n",
    "# pmw = pmw()\n",
    "\n",
    "# zztable = pmw.get_collection('jiankang39', 'zznew')\n",
    "\n",
    "# zzlist = [i['症状名称'] for i in pmw.find_all(zztable, fieldlist=['症状名称'])]\n",
    "\n",
    "\n",
    "\n",
    "# from utils.pickle_wrapper import pickle_wrapper as picklew\n",
    "\n",
    "# picklew.dump2file(zzlist,'症状列表.pkl')\n",
    "from utils.pickle_wrapper import pickle_wrapper as picklew\n",
    "zzlist = picklew.loadfromfile('症状列表.pkl')\n",
    "len(zzlist),zzlist[:5]"
   ]
  },
  {
   "cell_type": "markdown",
   "metadata": {},
   "source": [
    "### 通过编辑距离计算相似度"
   ]
  },
  {
   "cell_type": "code",
   "execution_count": null,
   "metadata": {},
   "outputs": [],
   "source": [
    "from utils.nlp.nlp_wrapper import nlp_wrapper as nlpw\n",
    "from utils.pandas_wrapper import pandas_wrapper as pdw\n",
    "from utils.pandas.dataframe_wrapper import dataframe_wrapper as dfw\n",
    "def get_zzs_by_editdis(s1,zzlist, n=10):\n",
    "    e = list(map(nlpw.cal_editdistance, [s1]*len(zzlist), zzlist))\n",
    "    df = pdw.build_df_from_dict({'zz':zzlist,'e':e})\n",
    "    return list(dfw.sort_by_column(df,'e').loc[:,'zz'][:n].values)"
   ]
  },
  {
   "cell_type": "code",
   "execution_count": null,
   "metadata": {},
   "outputs": [],
   "source": [
    "get_zzs_by_editdis('睡不着觉',zzlist)"
   ]
  },
  {
   "cell_type": "code",
   "execution_count": null,
   "metadata": {},
   "outputs": [],
   "source": [
    "get_zzs_by_editdis('我经常失眠',zzlist)"
   ]
  },
  {
   "cell_type": "code",
   "execution_count": null,
   "metadata": {},
   "outputs": [],
   "source": [
    "get_zzs_by_editdis('肘关节疼痛',zzlist)"
   ]
  },
  {
   "cell_type": "markdown",
   "metadata": {},
   "source": [
    "### 通过word2vec模糊推荐症状"
   ]
  },
  {
   "cell_type": "code",
   "execution_count": null,
   "metadata": {},
   "outputs": [],
   "source": [
    "import gensim\n",
    "import jieba\n",
    "import numpy as np\n",
    "from scipy.linalg import norm\n",
    " \n",
    "model_file = '/home/ian/code/github/data/word2vec/news_12g_baidubaike_20g_novel_90g_embedding_64.bin'\n",
    "model = gensim.models.KeyedVectors.load_word2vec_format(model_file, binary=True)\n"
   ]
  },
  {
   "cell_type": "code",
   "execution_count": null,
   "metadata": {},
   "outputs": [],
   "source": [
    "def vector_similarity(s1, s2):\n",
    "    def sentence_vector(s):\n",
    "        words = jieba.lcut(s)\n",
    "        v = np.zeros(64)\n",
    "        for word in words:\n",
    "            if word in model:\n",
    "                v += model[word]\n",
    "        v /= len(words)\n",
    "        return v\n",
    "    try:\n",
    "        v1, v2 = sentence_vector(s1), sentence_vector(s2)\n",
    "        return np.dot(v1, v2) / (norm(v1) * norm(v2))\n",
    "    except:\n",
    "        return 0"
   ]
  },
  {
   "cell_type": "code",
   "execution_count": null,
   "metadata": {},
   "outputs": [],
   "source": [
    "def get_zzs_by_word2vec(s1,zzlist,n=10):\n",
    "    e = list(map(vector_similarity, [s1]*len(zzlist), zzlist))\n",
    "    df = pdw.build_df_from_dict({'zz':zzlist,'e':e})\n",
    "    return list(dfw.sort_by_column(df,'e',ascending=False).loc[:,'zz'][:n].values)"
   ]
  },
  {
   "cell_type": "code",
   "execution_count": null,
   "metadata": {},
   "outputs": [],
   "source": [
    "get_zzs_by_word2vec('睡不着觉',zzlist)"
   ]
  },
  {
   "cell_type": "code",
   "execution_count": null,
   "metadata": {
    "scrolled": true
   },
   "outputs": [],
   "source": [
    "get_zzs_by_word2vec('我经常失眠',zzlist)"
   ]
  },
  {
   "cell_type": "markdown",
   "metadata": {},
   "source": [
    "### 得到模糊症状匹配\n",
    "如何提高准确率？  \n",
    "* 在模型使用过程中，排除影响模型的个别word  \n",
    "* zzlist  \n",
    "保证zzlist都是可问的，就是说根据用户的特征（孕妇，老人，男女）有针对的zzlist"
   ]
  },
  {
   "cell_type": "code",
   "execution_count": 41,
   "metadata": {},
   "outputs": [],
   "source": [
    "import pandas as pd"
   ]
  },
  {
   "cell_type": "code",
   "execution_count": 43,
   "metadata": {},
   "outputs": [
    {
     "data": {
      "text/html": [
       "<div>\n",
       "<style scoped>\n",
       "    .dataframe tbody tr th:only-of-type {\n",
       "        vertical-align: middle;\n",
       "    }\n",
       "\n",
       "    .dataframe tbody tr th {\n",
       "        vertical-align: top;\n",
       "    }\n",
       "\n",
       "    .dataframe thead th {\n",
       "        text-align: right;\n",
       "    }\n",
       "</style>\n",
       "<table border=\"1\" class=\"dataframe\">\n",
       "  <thead>\n",
       "    <tr style=\"text-align: right;\">\n",
       "      <th></th>\n",
       "      <th>C1</th>\n",
       "      <th>Unnamed: 1</th>\n",
       "      <th>同义部位</th>\n",
       "    </tr>\n",
       "  </thead>\n",
       "  <tbody>\n",
       "    <tr>\n",
       "      <th>0</th>\n",
       "      <td>腹部</td>\n",
       "      <td>腹部</td>\n",
       "      <td>肚子</td>\n",
       "    </tr>\n",
       "    <tr>\n",
       "      <th>1</th>\n",
       "      <td>腹部</td>\n",
       "      <td>腹部</td>\n",
       "      <td>小腹</td>\n",
       "    </tr>\n",
       "    <tr>\n",
       "      <th>2</th>\n",
       "      <td>腹部</td>\n",
       "      <td>腹部</td>\n",
       "      <td>上腹</td>\n",
       "    </tr>\n",
       "    <tr>\n",
       "      <th>3</th>\n",
       "      <td>腹部</td>\n",
       "      <td>腹部</td>\n",
       "      <td>下腹</td>\n",
       "    </tr>\n",
       "    <tr>\n",
       "      <th>4</th>\n",
       "      <td>腹部</td>\n",
       "      <td>腹部</td>\n",
       "      <td>腹</td>\n",
       "    </tr>\n",
       "  </tbody>\n",
       "</table>\n",
       "</div>"
      ],
      "text/plain": [
       "   C1 Unnamed: 1 同义部位\n",
       "0  腹部         腹部   肚子\n",
       "1  腹部         腹部   小腹\n",
       "2  腹部         腹部   上腹\n",
       "3  腹部         腹部   下腹\n",
       "4  腹部         腹部    腹"
      ]
     },
     "execution_count": 43,
     "metadata": {},
     "output_type": "execute_result"
    }
   ],
   "source": [
    "df = pd.read_excel('/home/ian/code/data/daozhen/部位同义词0828.xlsx')\n",
    "df.head()"
   ]
  },
  {
   "cell_type": "code",
   "execution_count": 44,
   "metadata": {},
   "outputs": [],
   "source": [
    "df['部位长度'] = df.apply(lambda x: len(x[2]),1)"
   ]
  },
  {
   "cell_type": "code",
   "execution_count": 45,
   "metadata": {},
   "outputs": [
    {
     "data": {
      "text/html": [
       "<div>\n",
       "<style scoped>\n",
       "    .dataframe tbody tr th:only-of-type {\n",
       "        vertical-align: middle;\n",
       "    }\n",
       "\n",
       "    .dataframe tbody tr th {\n",
       "        vertical-align: top;\n",
       "    }\n",
       "\n",
       "    .dataframe thead th {\n",
       "        text-align: right;\n",
       "    }\n",
       "</style>\n",
       "<table border=\"1\" class=\"dataframe\">\n",
       "  <thead>\n",
       "    <tr style=\"text-align: right;\">\n",
       "      <th></th>\n",
       "      <th>C1</th>\n",
       "      <th>Unnamed: 1</th>\n",
       "      <th>同义部位</th>\n",
       "      <th>部位长度</th>\n",
       "    </tr>\n",
       "  </thead>\n",
       "  <tbody>\n",
       "    <tr>\n",
       "      <th>0</th>\n",
       "      <td>腹部</td>\n",
       "      <td>腹部</td>\n",
       "      <td>肚子</td>\n",
       "      <td>2</td>\n",
       "    </tr>\n",
       "    <tr>\n",
       "      <th>1</th>\n",
       "      <td>腹部</td>\n",
       "      <td>腹部</td>\n",
       "      <td>小腹</td>\n",
       "      <td>2</td>\n",
       "    </tr>\n",
       "    <tr>\n",
       "      <th>2</th>\n",
       "      <td>腹部</td>\n",
       "      <td>腹部</td>\n",
       "      <td>上腹</td>\n",
       "      <td>2</td>\n",
       "    </tr>\n",
       "    <tr>\n",
       "      <th>3</th>\n",
       "      <td>腹部</td>\n",
       "      <td>腹部</td>\n",
       "      <td>下腹</td>\n",
       "      <td>2</td>\n",
       "    </tr>\n",
       "    <tr>\n",
       "      <th>4</th>\n",
       "      <td>腹部</td>\n",
       "      <td>腹部</td>\n",
       "      <td>腹</td>\n",
       "      <td>1</td>\n",
       "    </tr>\n",
       "  </tbody>\n",
       "</table>\n",
       "</div>"
      ],
      "text/plain": [
       "   C1 Unnamed: 1 同义部位  部位长度\n",
       "0  腹部         腹部   肚子     2\n",
       "1  腹部         腹部   小腹     2\n",
       "2  腹部         腹部   上腹     2\n",
       "3  腹部         腹部   下腹     2\n",
       "4  腹部         腹部    腹     1"
      ]
     },
     "execution_count": 45,
     "metadata": {},
     "output_type": "execute_result"
    }
   ],
   "source": [
    "df.head()"
   ]
  },
  {
   "cell_type": "code",
   "execution_count": 46,
   "metadata": {},
   "outputs": [
    {
     "data": {
      "text/html": [
       "<div>\n",
       "<style scoped>\n",
       "    .dataframe tbody tr th:only-of-type {\n",
       "        vertical-align: middle;\n",
       "    }\n",
       "\n",
       "    .dataframe tbody tr th {\n",
       "        vertical-align: top;\n",
       "    }\n",
       "\n",
       "    .dataframe thead th {\n",
       "        text-align: right;\n",
       "    }\n",
       "</style>\n",
       "<table border=\"1\" class=\"dataframe\">\n",
       "  <thead>\n",
       "    <tr style=\"text-align: right;\">\n",
       "      <th></th>\n",
       "      <th>C1</th>\n",
       "      <th>Unnamed: 1</th>\n",
       "      <th>同义部位</th>\n",
       "      <th>部位长度</th>\n",
       "    </tr>\n",
       "  </thead>\n",
       "  <tbody>\n",
       "    <tr>\n",
       "      <th>68</th>\n",
       "      <td>全身</td>\n",
       "      <td>肌肉</td>\n",
       "      <td>胸锁乳突肌</td>\n",
       "      <td>5</td>\n",
       "    </tr>\n",
       "    <tr>\n",
       "      <th>84</th>\n",
       "      <td>全身</td>\n",
       "      <td>皮肤</td>\n",
       "      <td>皮肤及毛发</td>\n",
       "      <td>5</td>\n",
       "    </tr>\n",
       "    <tr>\n",
       "      <th>91</th>\n",
       "      <td>全身</td>\n",
       "      <td>血液血管</td>\n",
       "      <td>血液血管</td>\n",
       "      <td>4</td>\n",
       "    </tr>\n",
       "    <tr>\n",
       "      <th>66</th>\n",
       "      <td>全身</td>\n",
       "      <td>骨及关节</td>\n",
       "      <td>骨及关节</td>\n",
       "      <td>4</td>\n",
       "    </tr>\n",
       "    <tr>\n",
       "      <th>41</th>\n",
       "      <td>女性生殖</td>\n",
       "      <td>女性生殖</td>\n",
       "      <td>女性生殖</td>\n",
       "      <td>4</td>\n",
       "    </tr>\n",
       "  </tbody>\n",
       "</table>\n",
       "</div>"
      ],
      "text/plain": [
       "      C1 Unnamed: 1   同义部位  部位长度\n",
       "68    全身         肌肉  胸锁乳突肌     5\n",
       "84    全身         皮肤  皮肤及毛发     5\n",
       "91    全身       血液血管   血液血管     4\n",
       "66    全身       骨及关节   骨及关节     4\n",
       "41  女性生殖       女性生殖   女性生殖     4"
      ]
     },
     "execution_count": 46,
     "metadata": {},
     "output_type": "execute_result"
    }
   ],
   "source": [
    "df1 = df.sort_values('部位长度',ascending=False)\n",
    "df1.head()"
   ]
  },
  {
   "cell_type": "code",
   "execution_count": 32,
   "metadata": {},
   "outputs": [],
   "source": [
    "from utils.pickle_wrapper import pickle_wrapper as pkw"
   ]
  },
  {
   "cell_type": "code",
   "execution_count": 48,
   "metadata": {},
   "outputs": [
    {
     "data": {
      "text/plain": [
       "182"
      ]
     },
     "execution_count": 48,
     "metadata": {},
     "output_type": "execute_result"
    }
   ],
   "source": [
    "# buweilist = list(df1.loc[:,'同义部位'])\n",
    "# pkw.dump2file(buweilist,'二级部位列表.pkl')\n",
    "\n",
    "buweilist = pkw.loadfromfile('二级部位列表.pkl')\n",
    "len(buweilist)"
   ]
  },
  {
   "cell_type": "code",
   "execution_count": 49,
   "metadata": {},
   "outputs": [
    {
     "data": {
      "text/plain": [
       "['胸锁乳突肌',\n",
       " '皮肤及毛发',\n",
       " '血液血管',\n",
       " '骨及关节',\n",
       " '女性生殖',\n",
       " '男性生殖',\n",
       " '看东西',\n",
       " '腰大肌',\n",
       " '胸大肌',\n",
       " '大小便',\n",
       " '产褥期',\n",
       " '排卵期',\n",
       " '胳膊肘',\n",
       " '咀嚼肌',\n",
       " '扁桃体',\n",
       " '太阳穴',\n",
       " '胳肢窝',\n",
       " '结膜',\n",
       " '毛囊',\n",
       " '胳膊',\n",
       " '上肢',\n",
       " '小腹',\n",
       " '血管',\n",
       " '血液',\n",
       " '贫血',\n",
       " '静脉',\n",
       " '血糖',\n",
       " '血压',\n",
       " '角膜',\n",
       " '毛发',\n",
       " '角质',\n",
       " '表情',\n",
       " '上皮',\n",
       " '皮肤',\n",
       " '毛孔',\n",
       " '体毛',\n",
       " '眼眶',\n",
       " '皮下',\n",
       " '头皮',\n",
       " '色盲',\n",
       " '色弱',\n",
       " '心理',\n",
       " '呼吸',\n",
       " '前臂',\n",
       " '脚脖',\n",
       " '肩膀',\n",
       " '手指',\n",
       " '视力',\n",
       " '视物',\n",
       " '视野',\n",
       " '右脸',\n",
       " '左脸',\n",
       " '脸面',\n",
       " '颅脑',\n",
       " '头皮',\n",
       " '头顶',\n",
       " '脑子',\n",
       " '脑壳',\n",
       " '脑袋',\n",
       " '近视',\n",
       " '手肘',\n",
       " '远视',\n",
       " '腋窝',\n",
       " '腹肌',\n",
       " '下肢',\n",
       " '弱视',\n",
       " '手指',\n",
       " '指甲',\n",
       " '虹膜',\n",
       " '巩膜',\n",
       " '肌肉',\n",
       " '肚子',\n",
       " '胸部',\n",
       " '腹部',\n",
       " '子宫',\n",
       " '声带',\n",
       " '脖子',\n",
       " '会阴',\n",
       " '头颈',\n",
       " '脖颈',\n",
       " '闭经',\n",
       " '脖梗',\n",
       " '月经',\n",
       " '经期',\n",
       " '白带',\n",
       " '阴道',\n",
       " '颈部',\n",
       " '颈椎',\n",
       " '嗓子',\n",
       " '喉咙',\n",
       " '咽喉',\n",
       " '胸肌',\n",
       " '龟头',\n",
       " '鸡鸡',\n",
       " '食管',\n",
       " '阴囊',\n",
       " '阴茎',\n",
       " '包皮',\n",
       " '睾丸',\n",
       " '尿道',\n",
       " '喉结',\n",
       " '背部',\n",
       " '臀部',\n",
       " '关节',\n",
       " '大便',\n",
       " '盆腔',\n",
       " '耻骨',\n",
       " '肾区',\n",
       " '下腹',\n",
       " '小便',\n",
       " '脊柱',\n",
       " '背脊',\n",
       " '腰部',\n",
       " '肛门',\n",
       " '上腹',\n",
       " '屁股',\n",
       " '颧',\n",
       " '眶',\n",
       " '咳',\n",
       " '痰',\n",
       " '喘',\n",
       " '腮',\n",
       " '咯',\n",
       " '颌',\n",
       " '额',\n",
       " '颞',\n",
       " '颈',\n",
       " '喉',\n",
       " '咽',\n",
       " '肺',\n",
       " '肋',\n",
       " '肚',\n",
       " '乳',\n",
       " '脖',\n",
       " '胸',\n",
       " '泪',\n",
       " '心',\n",
       " '眼',\n",
       " '腹',\n",
       " '目',\n",
       " '眉',\n",
       " '肌',\n",
       " '面',\n",
       " '脸',\n",
       " '跖',\n",
       " '脚',\n",
       " '趾',\n",
       " '足',\n",
       " '肩',\n",
       " '踝',\n",
       " '臂',\n",
       " '髋',\n",
       " '背',\n",
       " '屁',\n",
       " '臀',\n",
       " '髋',\n",
       " '腰',\n",
       " '屎',\n",
       " '尿',\n",
       " '骨',\n",
       " '皮',\n",
       " '腕',\n",
       " '甲',\n",
       " '腿',\n",
       " '嘴',\n",
       " '脑',\n",
       " '颅',\n",
       " '头',\n",
       " '精',\n",
       " '腭',\n",
       " '牙',\n",
       " '唇',\n",
       " '听',\n",
       " '趾',\n",
       " '耳',\n",
       " '涕',\n",
       " '鼻',\n",
       " '肘',\n",
       " '腋',\n",
       " '膝',\n",
       " '髌',\n",
       " '舌']"
      ]
     },
     "execution_count": 49,
     "metadata": {},
     "output_type": "execute_result"
    }
   ],
   "source": [
    "buweilist"
   ]
  },
  {
   "cell_type": "code",
   "execution_count": 50,
   "metadata": {},
   "outputs": [
    {
     "data": {
      "text/plain": [
       "同义部位\n",
       "胸锁乳突肌      肌肉\n",
       "皮肤及毛发      皮肤\n",
       "血液血管     血液血管\n",
       "骨及关节     骨及关节\n",
       "女性生殖     女性生殖\n",
       "dtype: object"
      ]
     },
     "execution_count": 50,
     "metadata": {},
     "output_type": "execute_result"
    }
   ],
   "source": [
    "# buweiseries = pd.Series(df1.iloc[:,1].values,index=df1.loc[:,'同义部位'])\n",
    "# pkw.dump2file(buweiseries,'二级部位series.pkl')\n",
    "buweiseries = pkw.loadfromfile('二级部位series.pkl')\n",
    "\n",
    "buweiseries[:5]"
   ]
  },
  {
   "cell_type": "code",
   "execution_count": null,
   "metadata": {},
   "outputs": [],
   "source": [
    "import re"
   ]
  },
  {
   "cell_type": "code",
   "execution_count": null,
   "metadata": {},
   "outputs": [],
   "source": [
    "pattern = re.compile(r'|'.join(buweilist))"
   ]
  },
  {
   "cell_type": "code",
   "execution_count": null,
   "metadata": {},
   "outputs": [],
   "source": [
    "re.findall(pattern,'我腹部疼')"
   ]
  },
  {
   "cell_type": "code",
   "execution_count": null,
   "metadata": {},
   "outputs": [],
   "source": [
    "re.findall(pattern,'我肚子和大腿疼')"
   ]
  },
  {
   "cell_type": "code",
   "execution_count": null,
   "metadata": {},
   "outputs": [],
   "source": [
    "list1 = re.findall(pattern,'我肚子肚和大腿疼')"
   ]
  },
  {
   "cell_type": "code",
   "execution_count": null,
   "metadata": {},
   "outputs": [],
   "source": [
    "{buweiseries[i] for i in list1}"
   ]
  },
  {
   "cell_type": "code",
   "execution_count": null,
   "metadata": {},
   "outputs": [],
   "source": [
    "def get_buwei(s):\n",
    "    '''\n",
    "    从一个描述中得到部位\n",
    "    '''\n",
    "    list1 = re.findall(pattern,s)\n",
    "    return list({buweiseries[i] for i in list1})"
   ]
  },
  {
   "cell_type": "code",
   "execution_count": null,
   "metadata": {},
   "outputs": [],
   "source": [
    "get_buwei('我肚子和大腿疼')"
   ]
  },
  {
   "cell_type": "code",
   "execution_count": null,
   "metadata": {},
   "outputs": [],
   "source": [
    "import re\n",
    "def get_zzs(s1,zzlist,gender,age):\n",
    "    '''\n",
    "    @gender: 男，女，孕妇，产褥期\n",
    "    '''\n",
    "    s1 = re.sub(r'[我你他很的,，。？！了么呢吗哦哈]|(感觉)|(非常)|(有点)','',s1)\n",
    "    s1 = re.sub(r'胳膊','上臂上肢前臂',s1)\n",
    "    s1 = re.sub(r'小腿','小腿下肢',s1)\n",
    "    s1 = re.sub(r'大腿','大腿下肢',s1)\n",
    "#     s1 = re.sub(r'脸','脸面部',s1)\n",
    "    s1 = re.sub(r'喉咙','喉咙咽喉',s1)\n",
    "    s1 = re.sub(r'嘴','嘴口',s1)\n",
    "#     s1 = re.sub(r'牙','牙牙齿',s1)\n",
    "    s1 = re.sub(r'屁股','屁股臀部',s1)\n",
    "    s1 = re.sub(r'肚子','肚子腹部',s1)\n",
    "    s1 = re.sub(r'脚','脚足',s1)\n",
    "#     s1 = re.sub(r'[疼痛]','疼痛',s1)\n",
    "    s1 = re.sub(r'睡不着觉|睡不着','失眠',s1)\n",
    "    s1 = re.sub(r'鼻子流血','流鼻血',s1)\n",
    "    s1 = re.sub(r'黑眼圈重','黑眼圈',s1)\n",
    "    print(s1)\n",
    "    if s1 in zzlist:\n",
    "        return s1\n",
    "    ll = pd.Series(get_zzs_by_editdis(s1,zzlist)+get_zzs_by_word2vec(s1,zzlist)).unique()\n",
    "    bwlist = get_buwei(s1)\n",
    "    print(bwlist)\n",
    "    if bwlist:\n",
    "        zzdicts = pmw.find_all(zztable,{'$or':[{'c2':i} for i in bwlist]},fieldlist=['症状名称'])\n",
    "        zz1 = [i['症状名称'] for i in zzdicts]        \n",
    "        print(len(zz1))\n",
    "        return [i for i in ll if i in zz1]\n",
    "    return ll"
   ]
  },
  {
   "cell_type": "code",
   "execution_count": null,
   "metadata": {},
   "outputs": [],
   "source": [
    "get_zzs('肘关节疼痛',zzlist)"
   ]
  },
  {
   "cell_type": "code",
   "execution_count": null,
   "metadata": {},
   "outputs": [],
   "source": [
    "get_zzs('我睡不着觉',zzlist)"
   ]
  },
  {
   "cell_type": "code",
   "execution_count": null,
   "metadata": {},
   "outputs": [],
   "source": [
    "get_zzs('我喉咙感觉有点痒',zzlist)"
   ]
  },
  {
   "cell_type": "code",
   "execution_count": null,
   "metadata": {},
   "outputs": [],
   "source": [
    "get_zzs('我脸有点肿',zzlist)"
   ]
  },
  {
   "cell_type": "code",
   "execution_count": null,
   "metadata": {},
   "outputs": [],
   "source": [
    "get_zzs('我的脖子非常痛',zzlist)"
   ]
  },
  {
   "cell_type": "code",
   "execution_count": null,
   "metadata": {},
   "outputs": [],
   "source": [
    "get_zzs('我牙很肿',zzlist)"
   ]
  },
  {
   "cell_type": "code",
   "execution_count": null,
   "metadata": {},
   "outputs": [],
   "source": [
    "get_zzs('我有点发烧',zzlist)"
   ]
  },
  {
   "cell_type": "code",
   "execution_count": null,
   "metadata": {},
   "outputs": [],
   "source": [
    "get_zzs('我感觉头有点晕',zzlist)"
   ]
  },
  {
   "cell_type": "code",
   "execution_count": null,
   "metadata": {},
   "outputs": [],
   "source": [
    "get_zzs('我感觉胳膊有点疼痛',zzlist)"
   ]
  },
  {
   "cell_type": "code",
   "execution_count": null,
   "metadata": {},
   "outputs": [],
   "source": [
    "get_zzs('我感觉小腿有点疼',zzlist)"
   ]
  },
  {
   "cell_type": "code",
   "execution_count": null,
   "metadata": {},
   "outputs": [],
   "source": [
    "get_zzs('我感觉大腿有点疼',zzlist)"
   ]
  },
  {
   "cell_type": "code",
   "execution_count": null,
   "metadata": {},
   "outputs": [],
   "source": [
    "get_zzs('我感觉喉咙有点疼',zzlist)"
   ]
  },
  {
   "cell_type": "code",
   "execution_count": null,
   "metadata": {},
   "outputs": [],
   "source": [
    "get_zzs('我感觉脚有点痛',zzlist)"
   ]
  },
  {
   "cell_type": "code",
   "execution_count": null,
   "metadata": {},
   "outputs": [],
   "source": [
    "get_zzs('我感觉肚子有点痛',zzlist)"
   ]
  },
  {
   "cell_type": "code",
   "execution_count": null,
   "metadata": {},
   "outputs": [],
   "source": [
    "get_zzs('我流鼻血了',zzlist)"
   ]
  },
  {
   "cell_type": "code",
   "execution_count": null,
   "metadata": {},
   "outputs": [],
   "source": [
    "get_zzs('我鼻子流血了',zzlist)"
   ]
  },
  {
   "cell_type": "code",
   "execution_count": null,
   "metadata": {},
   "outputs": [],
   "source": [
    "get_zzs('我黑眼圈很重',zzlist)"
   ]
  },
  {
   "cell_type": "code",
   "execution_count": null,
   "metadata": {},
   "outputs": [],
   "source": [
    "e = list(map(vector_similarity, ['我牙疼']*len(zzlist), zzlist))\n",
    "e[:5]"
   ]
  },
  {
   "cell_type": "code",
   "execution_count": null,
   "metadata": {},
   "outputs": [],
   "source": [
    "df = pdw.build_df_with_dict({'zz':zzlist,'e':e})\n",
    "list(pdw.sort_by_column(df,'e',ascending=False).loc[:,'zz'][:5].values)"
   ]
  },
  {
   "cell_type": "code",
   "execution_count": 18,
   "metadata": {},
   "outputs": [],
   "source": [
    "from django.http import HttpResponse"
   ]
  },
  {
   "cell_type": "code",
   "execution_count": null,
   "metadata": {},
   "outputs": [],
   "source": [
    "HttpResponse()"
   ]
  },
  {
   "cell_type": "code",
   "execution_count": 19,
   "metadata": {},
   "outputs": [],
   "source": [
    "import json"
   ]
  },
  {
   "cell_type": "code",
   "execution_count": null,
   "metadata": {},
   "outputs": [],
   "source": [
    "json.dumps()"
   ]
  },
  {
   "cell_type": "code",
   "execution_count": 20,
   "metadata": {},
   "outputs": [],
   "source": [
    "s = b'{\"body\":{\"questions\":\"\\xe6\\x88\\x91\\xe5\\xa4\\xb4\\xe7\\x96\\xbc\",\"zzlist\":[]},\"head\":{\"age\":\"24\",\"gender\":\"\\xe7\\x94\\xb7\",\"other\":\"\",\"userid\":\"wk123\"}}'"
   ]
  },
  {
   "cell_type": "code",
   "execution_count": 22,
   "metadata": {},
   "outputs": [
    {
     "data": {
      "text/plain": [
       "bytes"
      ]
     },
     "execution_count": 22,
     "metadata": {},
     "output_type": "execute_result"
    }
   ],
   "source": [
    "type(s)"
   ]
  },
  {
   "cell_type": "code",
   "execution_count": 24,
   "metadata": {},
   "outputs": [
    {
     "data": {
      "text/plain": [
       "'{\"body\":{\"questions\":\"我头疼\",\"zzlist\":[]},\"head\":{\"age\":\"24\",\"gender\":\"男\",\"other\":\"\",\"userid\":\"wk123\"}}'"
      ]
     },
     "execution_count": 24,
     "metadata": {},
     "output_type": "execute_result"
    }
   ],
   "source": [
    "s.decode()"
   ]
  },
  {
   "cell_type": "code",
   "execution_count": 27,
   "metadata": {},
   "outputs": [
    {
     "data": {
      "text/plain": [
       "dict"
      ]
     },
     "execution_count": 27,
     "metadata": {},
     "output_type": "execute_result"
    }
   ],
   "source": [
    "type(json.loads(s.decode()))"
   ]
  },
  {
   "cell_type": "code",
   "execution_count": 28,
   "metadata": {},
   "outputs": [
    {
     "data": {
      "text/plain": [
       "{'body': {'questions': '我头疼', 'zzlist': []},\n",
       " 'head': {'age': '24', 'gender': '男', 'other': '', 'userid': 'wk123'}}"
      ]
     },
     "execution_count": 28,
     "metadata": {},
     "output_type": "execute_result"
    }
   ],
   "source": [
    "json.loads(s.decode())"
   ]
  },
  {
   "cell_type": "code",
   "execution_count": 61,
   "metadata": {},
   "outputs": [
    {
     "data": {
      "text/plain": [
       "[1, 4, 2, 5, 3, 6, 7, 9, 8, 0]"
      ]
     },
     "execution_count": 61,
     "metadata": {},
     "output_type": "execute_result"
    }
   ],
   "source": [
    "from matplotlib.cbook import flatten\n",
    "a = [1, 2, 3,7,8]\n",
    "b = [4, 5, 6,9,0]\n",
    "list(flatten(zip(a,b)))"
   ]
  },
  {
   "cell_type": "code",
   "execution_count": null,
   "metadata": {},
   "outputs": [],
   "source": []
  }
 ],
 "metadata": {
  "kernelspec": {
   "display_name": "Python 3",
   "language": "python",
   "name": "python3"
  },
  "language_info": {
   "codemirror_mode": {
    "name": "ipython",
    "version": 3
   },
   "file_extension": ".py",
   "mimetype": "text/x-python",
   "name": "python",
   "nbconvert_exporter": "python",
   "pygments_lexer": "ipython3",
   "version": "3.6.5"
  }
 },
 "nbformat": 4,
 "nbformat_minor": 2
}
