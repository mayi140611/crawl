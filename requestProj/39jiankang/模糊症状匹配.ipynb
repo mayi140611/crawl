{
 "cells": [
  {
   "cell_type": "code",
   "execution_count": 7,
   "metadata": {},
   "outputs": [],
   "source": [
    "import sys\n",
    "sys.path.append('/home/ian/code/github')"
   ]
  },
  {
   "cell_type": "markdown",
   "metadata": {},
   "source": [
    "## 获取症状列表"
   ]
  },
  {
   "cell_type": "code",
   "execution_count": 8,
   "metadata": {},
   "outputs": [
    {
     "data": {
      "text/plain": [
       "['脑血管痉挛', '脑干出血', '多梦', '失眠', '脑缺氧']"
      ]
     },
     "execution_count": 8,
     "metadata": {},
     "output_type": "execute_result"
    }
   ],
   "source": [
    "# from utils.pymongo_wrapper import pymongo_wrapper as pmw\n",
    "\n",
    "# client = pmw()\n",
    "\n",
    "# zztable = client.get_collection('jiankang39', 'zz')\n",
    "\n",
    "# zzlist = [i['症状名称'] for i in client.find_all(zztable, fieldlist=['症状名称'])]\n",
    "\n",
    "\n",
    "\n",
    "# from utils.pickle_wrapper import pickle_wrapper as picklew\n",
    "\n",
    "# picklew.dump2file(zzlist,'症状列表.pkl')\n",
    "from utils.pickle_wrapper import pickle_wrapper as picklew\n",
    "zzlist = picklew.loadfromfile('症状列表.pkl')\n",
    "zzlist[:5]"
   ]
  },
  {
   "cell_type": "markdown",
   "metadata": {},
   "source": [
    "### 通过编辑距离计算相似度"
   ]
  },
  {
   "cell_type": "code",
   "execution_count": 48,
   "metadata": {},
   "outputs": [],
   "source": [
    "from utils.nlp.nlp_wrapper import nlp_wrapper as nlpw\n",
    "from utils.pandas_wrapper import pandas_wrapper as pdw\n",
    "def get_zzs_by_editdis(s1,zzlist, n=3):\n",
    "    e = list(map(nlpw.cal_editdistance, [s1]*len(zzlist), zzlist))\n",
    "    df = pdw.build_df_with_dict({'zz':zzlist,'e':e})\n",
    "    return list(pdw.sort_by_column(df,'e').loc[:,'zz'][:n].values)"
   ]
  },
  {
   "cell_type": "code",
   "execution_count": 24,
   "metadata": {},
   "outputs": [
    {
     "data": {
      "text/plain": [
       "['气不摄血', '饮不解渴', '不举']"
      ]
     },
     "execution_count": 24,
     "metadata": {},
     "output_type": "execute_result"
    }
   ],
   "source": [
    "get_zzs_by_editdis('睡不着觉')"
   ]
  },
  {
   "cell_type": "code",
   "execution_count": 25,
   "metadata": {},
   "outputs": [
    {
     "data": {
      "text/plain": [
       "['失眠', '色素脱失', '意识丧失']"
      ]
     },
     "execution_count": 25,
     "metadata": {},
     "output_type": "execute_result"
    }
   ],
   "source": [
    "get_zzs_by_editdis('我经常失眠')"
   ]
  },
  {
   "cell_type": "markdown",
   "metadata": {},
   "source": [
    "### 通过word2vec模糊推荐症状"
   ]
  },
  {
   "cell_type": "code",
   "execution_count": 29,
   "metadata": {},
   "outputs": [],
   "source": [
    "import gensim\n",
    "import jieba\n",
    "import numpy as np\n",
    "from scipy.linalg import norm\n",
    " \n",
    "model_file = '/home/ian/code/github/data/word2vec/news_12g_baidubaike_20g_novel_90g_embedding_64.bin'\n",
    "model = gensim.models.KeyedVectors.load_word2vec_format(model_file, binary=True)\n"
   ]
  },
  {
   "cell_type": "code",
   "execution_count": 36,
   "metadata": {},
   "outputs": [],
   "source": [
    " \n",
    "def vector_similarity(s1, s2):\n",
    "    def sentence_vector(s):\n",
    "        words = jieba.lcut(s)\n",
    "        v = np.zeros(64)\n",
    "        for word in words:\n",
    "            if word in model:\n",
    "                v += model[word]\n",
    "        v /= len(words)\n",
    "        return v\n",
    "    \n",
    "    v1, v2 = sentence_vector(s1), sentence_vector(s2)\n",
    "    return np.dot(v1, v2) / (norm(v1) * norm(v2))\n"
   ]
  },
  {
   "cell_type": "code",
   "execution_count": 51,
   "metadata": {},
   "outputs": [
    {
     "name": "stderr",
     "output_type": "stream",
     "text": [
      "/home/ian/installed/anaconda3/lib/python3.6/site-packages/ipykernel_launcher.py:13: RuntimeWarning: invalid value encountered in double_scalars\n",
      "  del sys.path[0]\n"
     ]
    },
    {
     "data": {
      "text/plain": [
       "['失眠', '失眠多梦']"
      ]
     },
     "execution_count": 51,
     "metadata": {},
     "output_type": "execute_result"
    }
   ],
   "source": [
    "get_zzs_by_word2vec('睡不着觉')"
   ]
  },
  {
   "cell_type": "code",
   "execution_count": 52,
   "metadata": {},
   "outputs": [
    {
     "name": "stderr",
     "output_type": "stream",
     "text": [
      "/home/ian/installed/anaconda3/lib/python3.6/site-packages/ipykernel_launcher.py:13: RuntimeWarning: invalid value encountered in double_scalars\n",
      "  del sys.path[0]\n"
     ]
    },
    {
     "data": {
      "text/plain": [
       "['经常流鼻血', '反复发作的带状疱疹']"
      ]
     },
     "execution_count": 52,
     "metadata": {},
     "output_type": "execute_result"
    }
   ],
   "source": [
    "get_zzs_by_word2vec('我经常失眠')"
   ]
  },
  {
   "cell_type": "markdown",
   "metadata": {},
   "source": [
    "### 得到模糊症状匹配\n",
    "如何提高准确率？  \n",
    "* 在模型使用过程中，排除影响模型的个别word  \n",
    "* zzlist  \n",
    "保证zzlist都是可问的，就是说根据用户的特征（孕妇，老人，男女）有针对的zzlist"
   ]
  },
  {
   "cell_type": "code",
   "execution_count": 50,
   "metadata": {},
   "outputs": [],
   "source": [
    "def get_zzs_by_word2vec(s1,zzlist,n=2):\n",
    "    e = list(map(vector_similarity, [s1]*len(zzlist), zzlist))\n",
    "    df = pdw.build_df_with_dict({'zz':zzlist,'e':e})\n",
    "    return list(pdw.sort_by_column(df,'e',ascending=False).loc[:,'zz'][:n].values)"
   ]
  },
  {
   "cell_type": "code",
   "execution_count": 60,
   "metadata": {},
   "outputs": [],
   "source": [
    "import re\n",
    "def get_zzs(s1,zzlist):\n",
    "    s1 = re.sub(r'我','',s1)\n",
    "    return list(set(get_zzs_by_word2vec(s1,zzlist)+get_zzs_by_editdis(s1,zzlist)))"
   ]
  },
  {
   "cell_type": "code",
   "execution_count": 61,
   "metadata": {},
   "outputs": [
    {
     "name": "stderr",
     "output_type": "stream",
     "text": [
      "/home/ian/installed/anaconda3/lib/python3.6/site-packages/ipykernel_launcher.py:13: RuntimeWarning: invalid value encountered in double_scalars\n",
      "  del sys.path[0]\n"
     ]
    },
    {
     "data": {
      "text/plain": [
       "['气不摄血', '失眠多梦', '饮不解渴', '不举', '失眠']"
      ]
     },
     "execution_count": 61,
     "metadata": {},
     "output_type": "execute_result"
    }
   ],
   "source": [
    "get_zzs('我睡不着觉')"
   ]
  },
  {
   "cell_type": "code",
   "execution_count": 62,
   "metadata": {},
   "outputs": [
    {
     "name": "stderr",
     "output_type": "stream",
     "text": [
      "/home/ian/installed/anaconda3/lib/python3.6/site-packages/ipykernel_launcher.py:13: RuntimeWarning: invalid value encountered in double_scalars\n",
      "  del sys.path[0]\n"
     ]
    },
    {
     "data": {
      "text/plain": [
       "['喉头水肿', '脸冻伤', '面部水肿', '痛性脸抽搐', '脸部疼痛']"
      ]
     },
     "execution_count": 62,
     "metadata": {},
     "output_type": "execute_result"
    }
   ],
   "source": [
    "get_zzs('我脸有点肿')"
   ]
  },
  {
   "cell_type": "code",
   "execution_count": 63,
   "metadata": {},
   "outputs": [
    {
     "name": "stderr",
     "output_type": "stream",
     "text": [
      "/home/ian/installed/anaconda3/lib/python3.6/site-packages/ipykernel_launcher.py:13: RuntimeWarning: invalid value encountered in double_scalars\n",
      "  del sys.path[0]\n"
     ]
    },
    {
     "data": {
      "text/plain": [
       "['四肢发冷', '喉咙痛', '手心发热', '小腿发胀', '流鼻血']"
      ]
     },
     "execution_count": 63,
     "metadata": {},
     "output_type": "execute_result"
    }
   ],
   "source": [
    "get_zzs('我有点发烧')"
   ]
  },
  {
   "cell_type": "code",
   "execution_count": 46,
   "metadata": {},
   "outputs": [
    {
     "name": "stderr",
     "output_type": "stream",
     "text": [
      "/home/ian/installed/anaconda3/lib/python3.6/site-packages/ipykernel_launcher.py:13: RuntimeWarning: invalid value encountered in double_scalars\n",
      "  del sys.path[0]\n"
     ]
    },
    {
     "data": {
      "text/plain": [
       "[0.25886484774584,\n",
       " 0.20469593383021958,\n",
       " 0.09579593970598164,\n",
       " 0.2230319561722977,\n",
       " 0.09064157739034769]"
      ]
     },
     "execution_count": 46,
     "metadata": {},
     "output_type": "execute_result"
    }
   ],
   "source": [
    "e = list(map(vector_similarity, ['我牙疼']*len(zzlist), zzlist))\n",
    "e[:5]"
   ]
  },
  {
   "cell_type": "code",
   "execution_count": 47,
   "metadata": {},
   "outputs": [
    {
     "data": {
      "text/plain": [
       "['双眼难以忍受的奇痒', '上呼吸道卡他症状', '日轻夜重的瘙痒', '反复发作的带状疱疹', '足的放射性疼痛']"
      ]
     },
     "execution_count": 47,
     "metadata": {},
     "output_type": "execute_result"
    }
   ],
   "source": [
    "df = pdw.build_df_with_dict({'zz':zzlist,'e':e})\n",
    "list(pdw.sort_by_column(df,'e',ascending=False).loc[:,'zz'][:5].values)"
   ]
  },
  {
   "cell_type": "code",
   "execution_count": 40,
   "metadata": {},
   "outputs": [
    {
     "data": {
      "text/html": [
       "<div>\n",
       "<style scoped>\n",
       "    .dataframe tbody tr th:only-of-type {\n",
       "        vertical-align: middle;\n",
       "    }\n",
       "\n",
       "    .dataframe tbody tr th {\n",
       "        vertical-align: top;\n",
       "    }\n",
       "\n",
       "    .dataframe thead th {\n",
       "        text-align: right;\n",
       "    }\n",
       "</style>\n",
       "<table border=\"1\" class=\"dataframe\">\n",
       "  <thead>\n",
       "    <tr style=\"text-align: right;\">\n",
       "      <th></th>\n",
       "      <th>zz</th>\n",
       "      <th>e</th>\n",
       "    </tr>\n",
       "  </thead>\n",
       "  <tbody>\n",
       "    <tr>\n",
       "      <th>541</th>\n",
       "      <td>眼底发现黄斑呈带灰色变色</td>\n",
       "      <td>-0.268249</td>\n",
       "    </tr>\n",
       "    <tr>\n",
       "      <th>2805</th>\n",
       "      <td>足跟蓝黑色或黑色斑点</td>\n",
       "      <td>-0.261248</td>\n",
       "    </tr>\n",
       "    <tr>\n",
       "      <th>2266</th>\n",
       "      <td>诊断室中所测血压始终增高</td>\n",
       "      <td>-0.258950</td>\n",
       "    </tr>\n",
       "    <tr>\n",
       "      <th>776</th>\n",
       "      <td>鼻唇沟变浅</td>\n",
       "      <td>-0.245501</td>\n",
       "    </tr>\n",
       "    <tr>\n",
       "      <th>754</th>\n",
       "      <td>鼻中隔向一侧或两则弯曲</td>\n",
       "      <td>-0.244906</td>\n",
       "    </tr>\n",
       "    <tr>\n",
       "      <th>1889</th>\n",
       "      <td>蓝色、蓝灰色或蓝黑色丘疹</td>\n",
       "      <td>-0.242348</td>\n",
       "    </tr>\n",
       "    <tr>\n",
       "      <th>1722</th>\n",
       "      <td>皮肤水疱，后形成黑色干痂</td>\n",
       "      <td>-0.241613</td>\n",
       "    </tr>\n",
       "    <tr>\n",
       "      <th>2934</th>\n",
       "      <td>骶部可有皮赘，形成尾巴</td>\n",
       "      <td>-0.239277</td>\n",
       "    </tr>\n",
       "    <tr>\n",
       "      <th>1044</th>\n",
       "      <td>面容呈灰色</td>\n",
       "      <td>-0.239224</td>\n",
       "    </tr>\n",
       "    <tr>\n",
       "      <th>1533</th>\n",
       "      <td>成人大便绿色</td>\n",
       "      <td>-0.237868</td>\n",
       "    </tr>\n",
       "    <tr>\n",
       "      <th>474</th>\n",
       "      <td>视野向心性缩小</td>\n",
       "      <td>-0.237693</td>\n",
       "    </tr>\n",
       "    <tr>\n",
       "      <th>1123</th>\n",
       "      <td>牙周袋形成</td>\n",
       "      <td>-0.234027</td>\n",
       "    </tr>\n",
       "    <tr>\n",
       "      <th>1334</th>\n",
       "      <td>牙冠呈半透明乳光色</td>\n",
       "      <td>-0.234010</td>\n",
       "    </tr>\n",
       "    <tr>\n",
       "      <th>2709</th>\n",
       "      <td>Q角异常</td>\n",
       "      <td>-0.230580</td>\n",
       "    </tr>\n",
       "    <tr>\n",
       "      <th>454</th>\n",
       "      <td>眼白蓝灰色或黑色斑点</td>\n",
       "      <td>-0.224298</td>\n",
       "    </tr>\n",
       "    <tr>\n",
       "      <th>532</th>\n",
       "      <td>同向性偏盲</td>\n",
       "      <td>-0.221122</td>\n",
       "    </tr>\n",
       "    <tr>\n",
       "      <th>658</th>\n",
       "      <td>乌珠生翳如葱白</td>\n",
       "      <td>-0.213497</td>\n",
       "    </tr>\n",
       "    <tr>\n",
       "      <th>1695</th>\n",
       "      <td>圆形或卵圆形丘疹或结节</td>\n",
       "      <td>-0.213143</td>\n",
       "    </tr>\n",
       "    <tr>\n",
       "      <th>1888</th>\n",
       "      <td>毛发色淡而呈棕色</td>\n",
       "      <td>-0.207285</td>\n",
       "    </tr>\n",
       "    <tr>\n",
       "      <th>2274</th>\n",
       "      <td>血溢脉外</td>\n",
       "      <td>-0.206542</td>\n",
       "    </tr>\n",
       "    <tr>\n",
       "      <th>1610</th>\n",
       "      <td>色素异常</td>\n",
       "      <td>-0.205027</td>\n",
       "    </tr>\n",
       "    <tr>\n",
       "      <th>635</th>\n",
       "      <td>瞳孔中能见到白色反光</td>\n",
       "      <td>-0.204423</td>\n",
       "    </tr>\n",
       "    <tr>\n",
       "      <th>663</th>\n",
       "      <td>瞳孔如锯齿或梅花状</td>\n",
       "      <td>-0.200152</td>\n",
       "    </tr>\n",
       "    <tr>\n",
       "      <th>2580</th>\n",
       "      <td>步态异常</td>\n",
       "      <td>-0.197698</td>\n",
       "    </tr>\n",
       "    <tr>\n",
       "      <th>530</th>\n",
       "      <td>虹膜蓝色</td>\n",
       "      <td>-0.195506</td>\n",
       "    </tr>\n",
       "    <tr>\n",
       "      <th>476</th>\n",
       "      <td>睑内翻</td>\n",
       "      <td>-0.195296</td>\n",
       "    </tr>\n",
       "    <tr>\n",
       "      <th>560</th>\n",
       "      <td>眼晶体前房棕色光反射</td>\n",
       "      <td>-0.194556</td>\n",
       "    </tr>\n",
       "    <tr>\n",
       "      <th>2510</th>\n",
       "      <td>手掌呈黄色</td>\n",
       "      <td>-0.193832</td>\n",
       "    </tr>\n",
       "    <tr>\n",
       "      <th>1028</th>\n",
       "      <td>腭部有黑色焦痂</td>\n",
       "      <td>-0.191781</td>\n",
       "    </tr>\n",
       "    <tr>\n",
       "      <th>1330</th>\n",
       "      <td>牙齿较小呈半透明状</td>\n",
       "      <td>-0.191091</td>\n",
       "    </tr>\n",
       "    <tr>\n",
       "      <th>...</th>\n",
       "      <td>...</td>\n",
       "      <td>...</td>\n",
       "    </tr>\n",
       "    <tr>\n",
       "      <th>711</th>\n",
       "      <td>上呼吸道卡他症状</td>\n",
       "      <td>0.451521</td>\n",
       "    </tr>\n",
       "    <tr>\n",
       "      <th>1641</th>\n",
       "      <td>反复发作的带状疱疹</td>\n",
       "      <td>0.454350</td>\n",
       "    </tr>\n",
       "    <tr>\n",
       "      <th>98</th>\n",
       "      <td>幻肢痛</td>\n",
       "      <td>0.468782</td>\n",
       "    </tr>\n",
       "    <tr>\n",
       "      <th>44</th>\n",
       "      <td>产后头痛</td>\n",
       "      <td>0.481478</td>\n",
       "    </tr>\n",
       "    <tr>\n",
       "      <th>1093</th>\n",
       "      <td>牙疼</td>\n",
       "      <td>0.489171</td>\n",
       "    </tr>\n",
       "    <tr>\n",
       "      <th>92</th>\n",
       "      <td>颅内头痛</td>\n",
       "      <td>0.489464</td>\n",
       "    </tr>\n",
       "    <tr>\n",
       "      <th>42</th>\n",
       "      <td>全头痛</td>\n",
       "      <td>0.494983</td>\n",
       "    </tr>\n",
       "    <tr>\n",
       "      <th>537</th>\n",
       "      <td>双眼难以忍受的奇痒</td>\n",
       "      <td>0.495689</td>\n",
       "    </tr>\n",
       "    <tr>\n",
       "      <th>394</th>\n",
       "      <td>始于眼部，扩张开来的面头痛</td>\n",
       "      <td>0.496155</td>\n",
       "    </tr>\n",
       "    <tr>\n",
       "      <th>99</th>\n",
       "      <td>癫痫的失神发作</td>\n",
       "      <td>0.503431</td>\n",
       "    </tr>\n",
       "    <tr>\n",
       "      <th>1496</th>\n",
       "      <td>咯吐不爽</td>\n",
       "      <td>0.527100</td>\n",
       "    </tr>\n",
       "    <tr>\n",
       "      <th>62</th>\n",
       "      <td>顽固性头痛</td>\n",
       "      <td>0.558813</td>\n",
       "    </tr>\n",
       "    <tr>\n",
       "      <th>219</th>\n",
       "      <td>夜寐不实</td>\n",
       "      <td>NaN</td>\n",
       "    </tr>\n",
       "    <tr>\n",
       "      <th>221</th>\n",
       "      <td>摸空症</td>\n",
       "      <td>NaN</td>\n",
       "    </tr>\n",
       "    <tr>\n",
       "      <th>274</th>\n",
       "      <td>酒悖</td>\n",
       "      <td>NaN</td>\n",
       "    </tr>\n",
       "    <tr>\n",
       "      <th>611</th>\n",
       "      <td>耀光感</td>\n",
       "      <td>NaN</td>\n",
       "    </tr>\n",
       "    <tr>\n",
       "      <th>696</th>\n",
       "      <td>流清涕</td>\n",
       "      <td>NaN</td>\n",
       "    </tr>\n",
       "    <tr>\n",
       "      <th>706</th>\n",
       "      <td>鼻溢液</td>\n",
       "      <td>NaN</td>\n",
       "    </tr>\n",
       "    <tr>\n",
       "      <th>733</th>\n",
       "      <td>鼻内痛</td>\n",
       "      <td>NaN</td>\n",
       "    </tr>\n",
       "    <tr>\n",
       "      <th>735</th>\n",
       "      <td>鼻臭症</td>\n",
       "      <td>NaN</td>\n",
       "    </tr>\n",
       "    <tr>\n",
       "      <th>860</th>\n",
       "      <td>耳溢液</td>\n",
       "      <td>NaN</td>\n",
       "    </tr>\n",
       "    <tr>\n",
       "      <th>1387</th>\n",
       "      <td>栓状齿</td>\n",
       "      <td>NaN</td>\n",
       "    </tr>\n",
       "    <tr>\n",
       "      <th>1489</th>\n",
       "      <td>猫喘音</td>\n",
       "      <td>NaN</td>\n",
       "    </tr>\n",
       "    <tr>\n",
       "      <th>1523</th>\n",
       "      <td>瘟暑</td>\n",
       "      <td>NaN</td>\n",
       "    </tr>\n",
       "    <tr>\n",
       "      <th>1915</th>\n",
       "      <td>溴疹</td>\n",
       "      <td>NaN</td>\n",
       "    </tr>\n",
       "    <tr>\n",
       "      <th>2193</th>\n",
       "      <td>脉濡弱</td>\n",
       "      <td>NaN</td>\n",
       "    </tr>\n",
       "    <tr>\n",
       "      <th>2223</th>\n",
       "      <td>迫血妄行</td>\n",
       "      <td>NaN</td>\n",
       "    </tr>\n",
       "    <tr>\n",
       "      <th>2284</th>\n",
       "      <td>脉洪滑数</td>\n",
       "      <td>NaN</td>\n",
       "    </tr>\n",
       "    <tr>\n",
       "      <th>2635</th>\n",
       "      <td>恐水症</td>\n",
       "      <td>NaN</td>\n",
       "    </tr>\n",
       "    <tr>\n",
       "      <th>2808</th>\n",
       "      <td>凸甲</td>\n",
       "      <td>NaN</td>\n",
       "    </tr>\n",
       "  </tbody>\n",
       "</table>\n",
       "<p>3032 rows × 2 columns</p>\n",
       "</div>"
      ],
      "text/plain": [
       "                 zz         e\n",
       "541    眼底发现黄斑呈带灰色变色 -0.268249\n",
       "2805     足跟蓝黑色或黑色斑点 -0.261248\n",
       "2266   诊断室中所测血压始终增高 -0.258950\n",
       "776           鼻唇沟变浅 -0.245501\n",
       "754     鼻中隔向一侧或两则弯曲 -0.244906\n",
       "1889   蓝色、蓝灰色或蓝黑色丘疹 -0.242348\n",
       "1722   皮肤水疱，后形成黑色干痂 -0.241613\n",
       "2934    骶部可有皮赘，形成尾巴 -0.239277\n",
       "1044          面容呈灰色 -0.239224\n",
       "1533         成人大便绿色 -0.237868\n",
       "474         视野向心性缩小 -0.237693\n",
       "1123          牙周袋形成 -0.234027\n",
       "1334      牙冠呈半透明乳光色 -0.234010\n",
       "2709           Q角异常 -0.230580\n",
       "454      眼白蓝灰色或黑色斑点 -0.224298\n",
       "532           同向性偏盲 -0.221122\n",
       "658         乌珠生翳如葱白 -0.213497\n",
       "1695    圆形或卵圆形丘疹或结节 -0.213143\n",
       "1888       毛发色淡而呈棕色 -0.207285\n",
       "2274           血溢脉外 -0.206542\n",
       "1610           色素异常 -0.205027\n",
       "635      瞳孔中能见到白色反光 -0.204423\n",
       "663       瞳孔如锯齿或梅花状 -0.200152\n",
       "2580           步态异常 -0.197698\n",
       "530            虹膜蓝色 -0.195506\n",
       "476             睑内翻 -0.195296\n",
       "560      眼晶体前房棕色光反射 -0.194556\n",
       "2510          手掌呈黄色 -0.193832\n",
       "1028        腭部有黑色焦痂 -0.191781\n",
       "1330      牙齿较小呈半透明状 -0.191091\n",
       "...             ...       ...\n",
       "711        上呼吸道卡他症状  0.451521\n",
       "1641      反复发作的带状疱疹  0.454350\n",
       "98              幻肢痛  0.468782\n",
       "44             产后头痛  0.481478\n",
       "1093             牙疼  0.489171\n",
       "92             颅内头痛  0.489464\n",
       "42              全头痛  0.494983\n",
       "537       双眼难以忍受的奇痒  0.495689\n",
       "394   始于眼部，扩张开来的面头痛  0.496155\n",
       "99          癫痫的失神发作  0.503431\n",
       "1496           咯吐不爽  0.527100\n",
       "62            顽固性头痛  0.558813\n",
       "219            夜寐不实       NaN\n",
       "221             摸空症       NaN\n",
       "274              酒悖       NaN\n",
       "611             耀光感       NaN\n",
       "696             流清涕       NaN\n",
       "706             鼻溢液       NaN\n",
       "733             鼻内痛       NaN\n",
       "735             鼻臭症       NaN\n",
       "860             耳溢液       NaN\n",
       "1387            栓状齿       NaN\n",
       "1489            猫喘音       NaN\n",
       "1523             瘟暑       NaN\n",
       "1915             溴疹       NaN\n",
       "2193            脉濡弱       NaN\n",
       "2223           迫血妄行       NaN\n",
       "2284           脉洪滑数       NaN\n",
       "2635            恐水症       NaN\n",
       "2808             凸甲       NaN\n",
       "\n",
       "[3032 rows x 2 columns]"
      ]
     },
     "execution_count": 40,
     "metadata": {},
     "output_type": "execute_result"
    }
   ],
   "source": [
    "pdw.sort_by_column(df,'e')"
   ]
  }
 ],
 "metadata": {
  "kernelspec": {
   "display_name": "Python 3",
   "language": "python",
   "name": "python3"
  },
  "language_info": {
   "codemirror_mode": {
    "name": "ipython",
    "version": 3
   },
   "file_extension": ".py",
   "mimetype": "text/x-python",
   "name": "python",
   "nbconvert_exporter": "python",
   "pygments_lexer": "ipython3",
   "version": "3.6.5"
  }
 },
 "nbformat": 4,
 "nbformat_minor": 2
}
