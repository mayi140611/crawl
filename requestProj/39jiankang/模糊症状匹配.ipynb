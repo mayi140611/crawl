{
 "cells": [
  {
   "cell_type": "code",
   "execution_count": 1,
   "metadata": {},
   "outputs": [],
   "source": [
    "import sys\n",
    "sys.path.append('/home/ian/code/github')"
   ]
  },
  {
   "cell_type": "markdown",
   "metadata": {},
   "source": [
    "## 获取症状列表"
   ]
  },
  {
   "cell_type": "code",
   "execution_count": 2,
   "metadata": {},
   "outputs": [
    {
     "name": "stdout",
     "output_type": "stream",
     "text": [
      "CPU times: user 658 ms, sys: 98.9 ms, total: 757 ms\n",
      "Wall time: 767 ms\n"
     ]
    }
   ],
   "source": [
    "%%time\n",
    "from model import model_wrapper"
   ]
  },
  {
   "cell_type": "code",
   "execution_count": 3,
   "metadata": {},
   "outputs": [
    {
     "name": "stdout",
     "output_type": "stream",
     "text": [
      "5898 ['脑血管痉挛', '脑干出血', '多梦', '失眠', '脑缺氧']\n",
      "CPU times: user 45.6 s, sys: 2.19 s, total: 47.8 s\n",
      "Wall time: 47.9 s\n"
     ]
    }
   ],
   "source": [
    "%%time\n",
    "model = model_wrapper()"
   ]
  },
  {
   "cell_type": "code",
   "execution_count": 5,
   "metadata": {
    "scrolled": true
   },
   "outputs": [
    {
     "name": "stdout",
     "output_type": "stream",
     "text": [
      "牙肿\n"
     ]
    },
    {
     "name": "stderr",
     "output_type": "stream",
     "text": [
      "/home/ian/code/github/crawl/requestProj/39jiankang/model.py:71: RuntimeWarning: invalid value encountered in double_scalars\n",
      "  return np.dot(v1, v2) / (norm(v1) * norm(v2))\n"
     ]
    },
    {
     "data": {
      "text/plain": [
       "['牙周脓肿', '水肿', '瘀肿', '脐疮', '脓肿']"
      ]
     },
     "execution_count": 5,
     "metadata": {},
     "output_type": "execute_result"
    }
   ],
   "source": [
    "model.get_zzs('我牙肿了')"
   ]
  },
  {
   "cell_type": "code",
   "execution_count": 8,
   "metadata": {},
   "outputs": [
    {
     "name": "stdout",
     "output_type": "stream",
     "text": [
      "牙出血\n"
     ]
    },
    {
     "name": "stderr",
     "output_type": "stream",
     "text": [
      "/home/ian/code/github/crawl/requestProj/39jiankang/model.py:71: RuntimeWarning: invalid value encountered in double_scalars\n",
      "  return np.dot(v1, v2) / (norm(v1) * norm(v2))\n"
     ]
    },
    {
     "data": {
      "text/plain": [
       "['刷牙出血', '肠出血', '牙龈出血', '痔出血']"
      ]
     },
     "execution_count": 8,
     "metadata": {},
     "output_type": "execute_result"
    }
   ],
   "source": [
    "model.get_zzs('我牙出血了')"
   ]
  },
  {
   "cell_type": "code",
   "execution_count": 8,
   "metadata": {},
   "outputs": [
    {
     "name": "stdout",
     "output_type": "stream",
     "text": [
      "发烧\n"
     ]
    },
    {
     "data": {
      "text/plain": [
       "'发烧'"
      ]
     },
     "execution_count": 8,
     "metadata": {},
     "output_type": "execute_result"
    }
   ],
   "source": [
    "model.get_zzs('我有点发烧')"
   ]
  },
  {
   "cell_type": "code",
   "execution_count": 10,
   "metadata": {},
   "outputs": [
    {
     "name": "stdout",
     "output_type": "stream",
     "text": [
      "睡不着觉\n"
     ]
    },
    {
     "name": "stderr",
     "output_type": "stream",
     "text": [
      "/home/ian/code/github/crawl/requestProj/39jiankang/model.py:70: RuntimeWarning: invalid value encountered in double_scalars\n",
      "  return np.dot(v1, v2) / (norm(v1) * norm(v2))\n"
     ]
    },
    {
     "data": {
      "text/plain": [
       "['梦幻觉', '失眠', '饮不解渴', '头昏想睡觉', '气不摄血']"
      ]
     },
     "execution_count": 10,
     "metadata": {},
     "output_type": "execute_result"
    }
   ],
   "source": [
    "model.get_zzs('我睡不着觉')"
   ]
  },
  {
   "cell_type": "code",
   "execution_count": 12,
   "metadata": {},
   "outputs": [
    {
     "name": "stdout",
     "output_type": "stream",
     "text": [
      "头晕\n"
     ]
    },
    {
     "data": {
      "text/plain": [
       "'头晕'"
      ]
     },
     "execution_count": 12,
     "metadata": {},
     "output_type": "execute_result"
    }
   ],
   "source": [
    "model.get_zzs('我感觉头有点晕')"
   ]
  },
  {
   "cell_type": "code",
   "execution_count": 13,
   "metadata": {},
   "outputs": [
    {
     "name": "stdout",
     "output_type": "stream",
     "text": [
      "上臂上肢前臂疼痛\n"
     ]
    },
    {
     "name": "stderr",
     "output_type": "stream",
     "text": [
      "/home/ian/code/github/crawl/requestProj/39jiankang/model.py:70: RuntimeWarning: invalid value encountered in double_scalars\n",
      "  return np.dot(v1, v2) / (norm(v1) * norm(v2))\n"
     ]
    },
    {
     "data": {
      "text/plain": [
       "['腕部疼痛', '膝前疼痛', '膝关节疼痛', '前臂和腕部的疼痛', '伸臂握手疼痛']"
      ]
     },
     "execution_count": 13,
     "metadata": {},
     "output_type": "execute_result"
    }
   ],
   "source": [
    "model.get_zzs('我感觉胳膊有点疼痛')"
   ]
  },
  {
   "cell_type": "code",
   "execution_count": 14,
   "metadata": {},
   "outputs": [
    {
     "name": "stdout",
     "output_type": "stream",
     "text": [
      "肚子腹部痛\n"
     ]
    },
    {
     "name": "stderr",
     "output_type": "stream",
     "text": [
      "/home/ian/code/github/crawl/requestProj/39jiankang/model.py:70: RuntimeWarning: invalid value encountered in double_scalars\n",
      "  return np.dot(v1, v2) / (norm(v1) * norm(v2))\n"
     ]
    },
    {
     "data": {
      "text/plain": [
       "['脚趾痛', '急性腹痛', '上腹部压痛', '下腹痛', '孕妇肚子痒']"
      ]
     },
     "execution_count": 14,
     "metadata": {},
     "output_type": "execute_result"
    }
   ],
   "source": [
    "model.get_zzs('我感觉肚子有点痛')"
   ]
  },
  {
   "cell_type": "code",
   "execution_count": 16,
   "metadata": {},
   "outputs": [
    {
     "name": "stdout",
     "output_type": "stream",
     "text": [
      "脚足痛\n"
     ]
    },
    {
     "name": "stderr",
     "output_type": "stream",
     "text": [
      "/home/ian/code/github/crawl/requestProj/39jiankang/model.py:70: RuntimeWarning: invalid value encountered in double_scalars\n",
      "  return np.dot(v1, v2) / (norm(v1) * norm(v2))\n"
     ]
    },
    {
     "data": {
      "text/plain": [
       "['脑血管痉挛', '脑干出血', '脚趾痛', '面痛', '足痛']"
      ]
     },
     "execution_count": 16,
     "metadata": {},
     "output_type": "execute_result"
    }
   ],
   "source": [
    "model.get_zzs('我感觉脚有点痛')"
   ]
  },
  {
   "cell_type": "code",
   "execution_count": 17,
   "metadata": {},
   "outputs": [
    {
     "name": "stdout",
     "output_type": "stream",
     "text": [
      "小腿下肢疼\n"
     ]
    },
    {
     "name": "stderr",
     "output_type": "stream",
     "text": [
      "/home/ian/code/github/crawl/requestProj/39jiankang/model.py:70: RuntimeWarning: invalid value encountered in double_scalars\n",
      "  return np.dot(v1, v2) / (norm(v1) * norm(v2))\n"
     ]
    },
    {
     "data": {
      "text/plain": [
       "['小腿酸痛', '小腿发胀', '脚后跟疼', '小腿以下缺血', '小腿水肿']"
      ]
     },
     "execution_count": 17,
     "metadata": {},
     "output_type": "execute_result"
    }
   ],
   "source": [
    "model.get_zzs('我感觉小腿有点疼')"
   ]
  },
  {
   "cell_type": "code",
   "execution_count": 18,
   "metadata": {},
   "outputs": [
    {
     "name": "stdout",
     "output_type": "stream",
     "text": [
      "恶心\n"
     ]
    },
    {
     "data": {
      "text/plain": [
       "'恶心'"
      ]
     },
     "execution_count": 18,
     "metadata": {},
     "output_type": "execute_result"
    }
   ],
   "source": [
    "model.get_zzs('我感觉有点恶心')"
   ]
  },
  {
   "cell_type": "code",
   "execution_count": 19,
   "metadata": {},
   "outputs": [
    {
     "name": "stdout",
     "output_type": "stream",
     "text": [
      "想吐\n"
     ]
    },
    {
     "name": "stderr",
     "output_type": "stream",
     "text": [
      "/home/ian/code/github/crawl/requestProj/39jiankang/model.py:70: RuntimeWarning: invalid value encountered in double_scalars\n",
      "  return np.dot(v1, v2) / (norm(v1) * norm(v2))\n"
     ]
    },
    {
     "data": {
      "text/plain": [
       "['麻痹', '吐弄舌', '吐泡沫痰', '耸肩', '脉数']"
      ]
     },
     "execution_count": 19,
     "metadata": {},
     "output_type": "execute_result"
    }
   ],
   "source": [
    "model.get_zzs('我感觉有点想吐')"
   ]
  },
  {
   "cell_type": "code",
   "execution_count": 7,
   "metadata": {},
   "outputs": [
    {
     "data": {
      "text/plain": [
       "(['头痛', '血压高', '头晕', '红细胞增多', '听力减退', '头昏', '发作性眩晕', '乏力', '单侧头痛', '健忘'],\n",
       " [4.0, 3.0, 2.0, 1.0, 1.0, 1.0, 1.0, 1.0, 1.0, 1.0])"
      ]
     },
     "execution_count": 7,
     "metadata": {},
     "output_type": "execute_result"
    }
   ],
   "source": [
    "model.zz2zz(['头胀'])"
   ]
  },
  {
   "cell_type": "code",
   "execution_count": null,
   "metadata": {},
   "outputs": [],
   "source": []
  },
  {
   "cell_type": "code",
   "execution_count": 81,
   "metadata": {},
   "outputs": [
    {
     "data": {
      "text/plain": [
       "(5898, ['脑血管痉挛', '脑干出血', '多梦', '失眠', '脑缺氧'])"
      ]
     },
     "execution_count": 81,
     "metadata": {},
     "output_type": "execute_result"
    }
   ],
   "source": [
    "# from utils.pymongo_wrapper import pymongo_wrapper as pmw\n",
    "\n",
    "# client = pmw()\n",
    "\n",
    "# zztable = client.get_collection('jiankang39', 'zz')\n",
    "\n",
    "# zzlist = [i['症状名称'] for i in client.find_all(zztable, fieldlist=['症状名称'])]\n",
    "\n",
    "\n",
    "\n",
    "# from utils.pickle_wrapper import pickle_wrapper as picklew\n",
    "\n",
    "# picklew.dump2file(zzlist,'症状列表.pkl')\n",
    "from utils.pickle_wrapper import pickle_wrapper as picklew\n",
    "zzlist = picklew.loadfromfile('症状列表.pkl')\n",
    "len(zzlist),zzlist[:5]"
   ]
  },
  {
   "cell_type": "markdown",
   "metadata": {},
   "source": [
    "### 通过编辑距离计算相似度"
   ]
  },
  {
   "cell_type": "code",
   "execution_count": 4,
   "metadata": {},
   "outputs": [],
   "source": [
    "from utils.nlp.nlp_wrapper import nlp_wrapper as nlpw\n",
    "from utils.pandas_wrapper import pandas_wrapper as pdw\n",
    "def get_zzs_by_editdis(s1,zzlist, n=3):\n",
    "    e = list(map(nlpw.cal_editdistance, [s1]*len(zzlist), zzlist))\n",
    "    df = pdw.build_df_with_dict({'zz':zzlist,'e':e})\n",
    "    return list(pdw.sort_by_column(df,'e').loc[:,'zz'][:n].values)"
   ]
  },
  {
   "cell_type": "code",
   "execution_count": 6,
   "metadata": {},
   "outputs": [
    {
     "data": {
      "text/plain": [
       "['气不摄血', '不排卵', '不举']"
      ]
     },
     "execution_count": 6,
     "metadata": {},
     "output_type": "execute_result"
    }
   ],
   "source": [
    "get_zzs_by_editdis('睡不着觉',zzlist)"
   ]
  },
  {
   "cell_type": "code",
   "execution_count": 7,
   "metadata": {},
   "outputs": [
    {
     "data": {
      "text/plain": [
       "['失眠', '色觉丧失', '绝经期面红']"
      ]
     },
     "execution_count": 7,
     "metadata": {},
     "output_type": "execute_result"
    }
   ],
   "source": [
    "get_zzs_by_editdis('我经常失眠',zzlist)"
   ]
  },
  {
   "cell_type": "markdown",
   "metadata": {},
   "source": [
    "### 通过word2vec模糊推荐症状"
   ]
  },
  {
   "cell_type": "code",
   "execution_count": 8,
   "metadata": {},
   "outputs": [],
   "source": [
    "import gensim\n",
    "import jieba\n",
    "import numpy as np\n",
    "from scipy.linalg import norm\n",
    " \n",
    "model_file = '/home/ian/code/github/data/word2vec/news_12g_baidubaike_20g_novel_90g_embedding_64.bin'\n",
    "model = gensim.models.KeyedVectors.load_word2vec_format(model_file, binary=True)\n"
   ]
  },
  {
   "cell_type": "code",
   "execution_count": 13,
   "metadata": {},
   "outputs": [],
   "source": [
    "def vector_similarity(s1, s2):\n",
    "    def sentence_vector(s):\n",
    "        words = jieba.lcut(s)\n",
    "        v = np.zeros(64)\n",
    "        for word in words:\n",
    "            if word in model:\n",
    "                v += model[word]\n",
    "        v /= len(words)\n",
    "        return v\n",
    "    try:\n",
    "        v1, v2 = sentence_vector(s1), sentence_vector(s2)\n",
    "        return np.dot(v1, v2) / (norm(v1) * norm(v2))\n",
    "    except:\n",
    "        return 0"
   ]
  },
  {
   "cell_type": "code",
   "execution_count": 14,
   "metadata": {},
   "outputs": [],
   "source": [
    "def get_zzs_by_word2vec(s1,zzlist,n=2):\n",
    "    e = list(map(vector_similarity, [s1]*len(zzlist), zzlist))\n",
    "    df = pdw.build_df_with_dict({'zz':zzlist,'e':e})\n",
    "    return list(pdw.sort_by_column(df,'e',ascending=False).loc[:,'zz'][:n].values)"
   ]
  },
  {
   "cell_type": "code",
   "execution_count": 15,
   "metadata": {},
   "outputs": [
    {
     "name": "stderr",
     "output_type": "stream",
     "text": [
      "/home/ian/installed/anaconda3/lib/python3.6/site-packages/ipykernel_launcher.py:12: RuntimeWarning: invalid value encountered in double_scalars\n",
      "  if sys.path[0] == '':\n",
      "/home/ian/installed/anaconda3/lib/python3.6/site-packages/ipykernel_launcher.py:8: RuntimeWarning: invalid value encountered in true_divide\n",
      "  \n"
     ]
    },
    {
     "data": {
      "text/plain": [
       "['头昏想睡觉', '失眠']"
      ]
     },
     "execution_count": 15,
     "metadata": {},
     "output_type": "execute_result"
    }
   ],
   "source": [
    "get_zzs_by_word2vec('睡不着觉',zzlist)"
   ]
  },
  {
   "cell_type": "code",
   "execution_count": 16,
   "metadata": {
    "scrolled": true
   },
   "outputs": [
    {
     "name": "stderr",
     "output_type": "stream",
     "text": [
      "/home/ian/installed/anaconda3/lib/python3.6/site-packages/ipykernel_launcher.py:12: RuntimeWarning: invalid value encountered in double_scalars\n",
      "  if sys.path[0] == '':\n",
      "/home/ian/installed/anaconda3/lib/python3.6/site-packages/ipykernel_launcher.py:8: RuntimeWarning: invalid value encountered in true_divide\n",
      "  \n"
     ]
    },
    {
     "data": {
      "text/plain": [
       "['经常流鼻血', '头昏想睡觉']"
      ]
     },
     "execution_count": 16,
     "metadata": {},
     "output_type": "execute_result"
    }
   ],
   "source": [
    "get_zzs_by_word2vec('我经常失眠',zzlist)"
   ]
  },
  {
   "cell_type": "markdown",
   "metadata": {},
   "source": [
    "### 得到模糊症状匹配\n",
    "如何提高准确率？  \n",
    "* 在模型使用过程中，排除影响模型的个别word  \n",
    "* zzlist  \n",
    "保证zzlist都是可问的，就是说根据用户的特征（孕妇，老人，男女）有针对的zzlist"
   ]
  },
  {
   "cell_type": "code",
   "execution_count": 74,
   "metadata": {},
   "outputs": [],
   "source": [
    "import re\n",
    "def get_zzs(s1,zzlist):\n",
    "    s1 = re.sub(r'[我你他很(非常)(有点)的,，。]|(感觉)','',s1)\n",
    "    s1 = re.sub(r'胳膊','上臂上肢前臂',s1)\n",
    "    s1 = re.sub(r'小腿','小腿下肢',s1)\n",
    "    s1 = re.sub(r'大腿','大腿下肢',s1)\n",
    "    s1 = re.sub(r'脸','脸面部',s1)\n",
    "    s1 = re.sub(r'喉咙','喉咙咽喉',s1)\n",
    "    s1 = re.sub(r'嘴','嘴口',s1)\n",
    "#     s1 = re.sub(r'牙','牙牙齿',s1)\n",
    "    s1 = re.sub(r'屁股','屁股臀部',s1)\n",
    "    s1 = re.sub(r'肚子','肚子腹部',s1)\n",
    "    s1 = re.sub(r'脚','脚足',s1)\n",
    "#     s1 = re.sub(r'[疼痛]','疼痛',s1)\n",
    "    print(s1)\n",
    "    if s1 in zzlist:\n",
    "        return s1\n",
    "    return list(set(get_zzs_by_word2vec(s1,zzlist)+get_zzs_by_editdis(s1,zzlist)))"
   ]
  },
  {
   "cell_type": "code",
   "execution_count": 56,
   "metadata": {},
   "outputs": [
    {
     "name": "stdout",
     "output_type": "stream",
     "text": [
      "睡不着觉\n"
     ]
    },
    {
     "name": "stderr",
     "output_type": "stream",
     "text": [
      "/home/ian/installed/anaconda3/lib/python3.6/site-packages/ipykernel_launcher.py:12: RuntimeWarning: invalid value encountered in double_scalars\n",
      "  if sys.path[0] == '':\n",
      "/home/ian/installed/anaconda3/lib/python3.6/site-packages/ipykernel_launcher.py:8: RuntimeWarning: invalid value encountered in true_divide\n",
      "  \n"
     ]
    },
    {
     "data": {
      "text/plain": [
       "['气不摄血', '失眠', '不排卵', '不举', '头昏想睡觉']"
      ]
     },
     "execution_count": 56,
     "metadata": {},
     "output_type": "execute_result"
    }
   ],
   "source": [
    "get_zzs('我睡不着觉',zzlist)"
   ]
  },
  {
   "cell_type": "code",
   "execution_count": 57,
   "metadata": {},
   "outputs": [
    {
     "name": "stdout",
     "output_type": "stream",
     "text": [
      "脸面部肿\n"
     ]
    },
    {
     "name": "stderr",
     "output_type": "stream",
     "text": [
      "/home/ian/installed/anaconda3/lib/python3.6/site-packages/ipykernel_launcher.py:12: RuntimeWarning: invalid value encountered in double_scalars\n",
      "  if sys.path[0] == '':\n",
      "/home/ian/installed/anaconda3/lib/python3.6/site-packages/ipykernel_launcher.py:8: RuntimeWarning: invalid value encountered in true_divide\n",
      "  \n"
     ]
    },
    {
     "data": {
      "text/plain": [
       "['痛性脸抽搐', '面部水肿', '囊肿', '面部浮肿', '脸冻伤']"
      ]
     },
     "execution_count": 57,
     "metadata": {},
     "output_type": "execute_result"
    }
   ],
   "source": [
    "get_zzs('我脸有点肿',zzlist)"
   ]
  },
  {
   "cell_type": "code",
   "execution_count": 64,
   "metadata": {},
   "outputs": [
    {
     "name": "stdout",
     "output_type": "stream",
     "text": [
      "牙肿\n"
     ]
    },
    {
     "name": "stderr",
     "output_type": "stream",
     "text": [
      "/home/ian/installed/anaconda3/lib/python3.6/site-packages/ipykernel_launcher.py:12: RuntimeWarning: invalid value encountered in double_scalars\n",
      "  if sys.path[0] == '':\n",
      "/home/ian/installed/anaconda3/lib/python3.6/site-packages/ipykernel_launcher.py:8: RuntimeWarning: invalid value encountered in true_divide\n",
      "  \n"
     ]
    },
    {
     "data": {
      "text/plain": [
       "['牙疼', '牙周脓肿', '水肿', '瘀肿', '脐疮']"
      ]
     },
     "execution_count": 64,
     "metadata": {},
     "output_type": "execute_result"
    }
   ],
   "source": [
    "get_zzs('我牙很肿',zzlist)"
   ]
  },
  {
   "cell_type": "code",
   "execution_count": 65,
   "metadata": {},
   "outputs": [
    {
     "name": "stdout",
     "output_type": "stream",
     "text": [
      "发烧\n"
     ]
    },
    {
     "data": {
      "text/plain": [
       "'发烧'"
      ]
     },
     "execution_count": 65,
     "metadata": {},
     "output_type": "execute_result"
    }
   ],
   "source": [
    "get_zzs('我有点发烧',zzlist)"
   ]
  },
  {
   "cell_type": "code",
   "execution_count": 66,
   "metadata": {},
   "outputs": [
    {
     "name": "stdout",
     "output_type": "stream",
     "text": [
      "头晕\n"
     ]
    },
    {
     "data": {
      "text/plain": [
       "'头晕'"
      ]
     },
     "execution_count": 66,
     "metadata": {},
     "output_type": "execute_result"
    }
   ],
   "source": [
    "get_zzs('我感觉头有点晕',zzlist)"
   ]
  },
  {
   "cell_type": "code",
   "execution_count": 70,
   "metadata": {},
   "outputs": [
    {
     "name": "stdout",
     "output_type": "stream",
     "text": [
      "上臂上肢前臂疼痛\n"
     ]
    },
    {
     "name": "stderr",
     "output_type": "stream",
     "text": [
      "/home/ian/installed/anaconda3/lib/python3.6/site-packages/ipykernel_launcher.py:12: RuntimeWarning: invalid value encountered in double_scalars\n",
      "  if sys.path[0] == '':\n",
      "/home/ian/installed/anaconda3/lib/python3.6/site-packages/ipykernel_launcher.py:8: RuntimeWarning: invalid value encountered in true_divide\n",
      "  \n"
     ]
    },
    {
     "data": {
      "text/plain": [
       "['腕部疼痛', '前臂外伤后疼痛', '膝关节疼痛', '膝前疼痛', '前臂和腕部的疼痛']"
      ]
     },
     "execution_count": 70,
     "metadata": {},
     "output_type": "execute_result"
    }
   ],
   "source": [
    "get_zzs('我感觉胳膊有点疼痛',zzlist)"
   ]
  },
  {
   "cell_type": "code",
   "execution_count": 71,
   "metadata": {},
   "outputs": [
    {
     "name": "stdout",
     "output_type": "stream",
     "text": [
      "小腿下肢疼\n"
     ]
    },
    {
     "name": "stderr",
     "output_type": "stream",
     "text": [
      "/home/ian/installed/anaconda3/lib/python3.6/site-packages/ipykernel_launcher.py:12: RuntimeWarning: invalid value encountered in double_scalars\n",
      "  if sys.path[0] == '':\n",
      "/home/ian/installed/anaconda3/lib/python3.6/site-packages/ipykernel_launcher.py:8: RuntimeWarning: invalid value encountered in true_divide\n",
      "  \n"
     ]
    },
    {
     "data": {
      "text/plain": [
       "['脚后跟疼', '小腿以下缺血', '小腿酸痛', '小腿水肿']"
      ]
     },
     "execution_count": 71,
     "metadata": {},
     "output_type": "execute_result"
    }
   ],
   "source": [
    "get_zzs('我感觉小腿有点疼',zzlist)"
   ]
  },
  {
   "cell_type": "code",
   "execution_count": 72,
   "metadata": {},
   "outputs": [
    {
     "name": "stdout",
     "output_type": "stream",
     "text": [
      "大腿下肢疼\n"
     ]
    },
    {
     "name": "stderr",
     "output_type": "stream",
     "text": [
      "/home/ian/installed/anaconda3/lib/python3.6/site-packages/ipykernel_launcher.py:12: RuntimeWarning: invalid value encountered in double_scalars\n",
      "  if sys.path[0] == '':\n",
      "/home/ian/installed/anaconda3/lib/python3.6/site-packages/ipykernel_launcher.py:8: RuntimeWarning: invalid value encountered in true_divide\n",
      "  \n"
     ]
    },
    {
     "data": {
      "text/plain": [
       "['大腿刺痛', '脚后跟疼', '大腿外侧痛', '小腿酸痛']"
      ]
     },
     "execution_count": 72,
     "metadata": {},
     "output_type": "execute_result"
    }
   ],
   "source": [
    "get_zzs('我感觉大腿有点疼',zzlist)"
   ]
  },
  {
   "cell_type": "code",
   "execution_count": 75,
   "metadata": {},
   "outputs": [
    {
     "name": "stdout",
     "output_type": "stream",
     "text": [
      "喉咙咽喉疼\n"
     ]
    },
    {
     "name": "stderr",
     "output_type": "stream",
     "text": [
      "/home/ian/installed/anaconda3/lib/python3.6/site-packages/ipykernel_launcher.py:12: RuntimeWarning: invalid value encountered in double_scalars\n",
      "  if sys.path[0] == '':\n",
      "/home/ian/installed/anaconda3/lib/python3.6/site-packages/ipykernel_launcher.py:8: RuntimeWarning: invalid value encountered in true_divide\n",
      "  \n"
     ]
    },
    {
     "data": {
      "text/plain": [
       "['喉咙冒黏液', '颈动脉痛', '喉咙痒', '咽喉疼痛']"
      ]
     },
     "execution_count": 75,
     "metadata": {},
     "output_type": "execute_result"
    }
   ],
   "source": [
    "get_zzs('我感觉喉咙有点疼',zzlist)"
   ]
  },
  {
   "cell_type": "code",
   "execution_count": 78,
   "metadata": {},
   "outputs": [
    {
     "name": "stdout",
     "output_type": "stream",
     "text": [
      "脚足痛\n"
     ]
    },
    {
     "name": "stderr",
     "output_type": "stream",
     "text": [
      "/home/ian/installed/anaconda3/lib/python3.6/site-packages/ipykernel_launcher.py:12: RuntimeWarning: invalid value encountered in double_scalars\n",
      "  if sys.path[0] == '':\n",
      "/home/ian/installed/anaconda3/lib/python3.6/site-packages/ipykernel_launcher.py:8: RuntimeWarning: invalid value encountered in true_divide\n",
      "  \n"
     ]
    },
    {
     "data": {
      "text/plain": [
       "['', '右胸痛', '脑血管痉挛', '脚趾痛', '足痛']"
      ]
     },
     "execution_count": 78,
     "metadata": {},
     "output_type": "execute_result"
    }
   ],
   "source": [
    "get_zzs('我感觉脚有点痛',zzlist)"
   ]
  },
  {
   "cell_type": "code",
   "execution_count": 79,
   "metadata": {},
   "outputs": [
    {
     "name": "stdout",
     "output_type": "stream",
     "text": [
      "肚子腹部痛\n"
     ]
    },
    {
     "name": "stderr",
     "output_type": "stream",
     "text": [
      "/home/ian/installed/anaconda3/lib/python3.6/site-packages/ipykernel_launcher.py:12: RuntimeWarning: invalid value encountered in double_scalars\n",
      "  if sys.path[0] == '':\n",
      "/home/ian/installed/anaconda3/lib/python3.6/site-packages/ipykernel_launcher.py:8: RuntimeWarning: invalid value encountered in true_divide\n",
      "  \n"
     ]
    },
    {
     "data": {
      "text/plain": [
       "['孕妇肚子痒', '运动腹痛', '脚趾痛', '下腹胀痛', '肚子疼']"
      ]
     },
     "execution_count": 79,
     "metadata": {},
     "output_type": "execute_result"
    }
   ],
   "source": [
    "get_zzs('我感觉肚子有点痛',zzlist)"
   ]
  },
  {
   "cell_type": "code",
   "execution_count": 46,
   "metadata": {},
   "outputs": [
    {
     "name": "stderr",
     "output_type": "stream",
     "text": [
      "/home/ian/installed/anaconda3/lib/python3.6/site-packages/ipykernel_launcher.py:13: RuntimeWarning: invalid value encountered in double_scalars\n",
      "  del sys.path[0]\n"
     ]
    },
    {
     "data": {
      "text/plain": [
       "[0.25886484774584,\n",
       " 0.20469593383021958,\n",
       " 0.09579593970598164,\n",
       " 0.2230319561722977,\n",
       " 0.09064157739034769]"
      ]
     },
     "execution_count": 46,
     "metadata": {},
     "output_type": "execute_result"
    }
   ],
   "source": [
    "e = list(map(vector_similarity, ['我牙疼']*len(zzlist), zzlist))\n",
    "e[:5]"
   ]
  },
  {
   "cell_type": "code",
   "execution_count": 47,
   "metadata": {},
   "outputs": [
    {
     "data": {
      "text/plain": [
       "['双眼难以忍受的奇痒', '上呼吸道卡他症状', '日轻夜重的瘙痒', '反复发作的带状疱疹', '足的放射性疼痛']"
      ]
     },
     "execution_count": 47,
     "metadata": {},
     "output_type": "execute_result"
    }
   ],
   "source": [
    "df = pdw.build_df_with_dict({'zz':zzlist,'e':e})\n",
    "list(pdw.sort_by_column(df,'e',ascending=False).loc[:,'zz'][:5].values)"
   ]
  },
  {
   "cell_type": "code",
   "execution_count": 40,
   "metadata": {
    "collapsed": true
   },
   "outputs": [
    {
     "data": {
      "text/html": [
       "<div>\n",
       "<style scoped>\n",
       "    .dataframe tbody tr th:only-of-type {\n",
       "        vertical-align: middle;\n",
       "    }\n",
       "\n",
       "    .dataframe tbody tr th {\n",
       "        vertical-align: top;\n",
       "    }\n",
       "\n",
       "    .dataframe thead th {\n",
       "        text-align: right;\n",
       "    }\n",
       "</style>\n",
       "<table border=\"1\" class=\"dataframe\">\n",
       "  <thead>\n",
       "    <tr style=\"text-align: right;\">\n",
       "      <th></th>\n",
       "      <th>zz</th>\n",
       "      <th>e</th>\n",
       "    </tr>\n",
       "  </thead>\n",
       "  <tbody>\n",
       "    <tr>\n",
       "      <th>541</th>\n",
       "      <td>眼底发现黄斑呈带灰色变色</td>\n",
       "      <td>-0.268249</td>\n",
       "    </tr>\n",
       "    <tr>\n",
       "      <th>2805</th>\n",
       "      <td>足跟蓝黑色或黑色斑点</td>\n",
       "      <td>-0.261248</td>\n",
       "    </tr>\n",
       "    <tr>\n",
       "      <th>2266</th>\n",
       "      <td>诊断室中所测血压始终增高</td>\n",
       "      <td>-0.258950</td>\n",
       "    </tr>\n",
       "    <tr>\n",
       "      <th>776</th>\n",
       "      <td>鼻唇沟变浅</td>\n",
       "      <td>-0.245501</td>\n",
       "    </tr>\n",
       "    <tr>\n",
       "      <th>754</th>\n",
       "      <td>鼻中隔向一侧或两则弯曲</td>\n",
       "      <td>-0.244906</td>\n",
       "    </tr>\n",
       "    <tr>\n",
       "      <th>1889</th>\n",
       "      <td>蓝色、蓝灰色或蓝黑色丘疹</td>\n",
       "      <td>-0.242348</td>\n",
       "    </tr>\n",
       "    <tr>\n",
       "      <th>1722</th>\n",
       "      <td>皮肤水疱，后形成黑色干痂</td>\n",
       "      <td>-0.241613</td>\n",
       "    </tr>\n",
       "    <tr>\n",
       "      <th>2934</th>\n",
       "      <td>骶部可有皮赘，形成尾巴</td>\n",
       "      <td>-0.239277</td>\n",
       "    </tr>\n",
       "    <tr>\n",
       "      <th>1044</th>\n",
       "      <td>面容呈灰色</td>\n",
       "      <td>-0.239224</td>\n",
       "    </tr>\n",
       "    <tr>\n",
       "      <th>1533</th>\n",
       "      <td>成人大便绿色</td>\n",
       "      <td>-0.237868</td>\n",
       "    </tr>\n",
       "    <tr>\n",
       "      <th>474</th>\n",
       "      <td>视野向心性缩小</td>\n",
       "      <td>-0.237693</td>\n",
       "    </tr>\n",
       "    <tr>\n",
       "      <th>1123</th>\n",
       "      <td>牙周袋形成</td>\n",
       "      <td>-0.234027</td>\n",
       "    </tr>\n",
       "    <tr>\n",
       "      <th>1334</th>\n",
       "      <td>牙冠呈半透明乳光色</td>\n",
       "      <td>-0.234010</td>\n",
       "    </tr>\n",
       "    <tr>\n",
       "      <th>2709</th>\n",
       "      <td>Q角异常</td>\n",
       "      <td>-0.230580</td>\n",
       "    </tr>\n",
       "    <tr>\n",
       "      <th>454</th>\n",
       "      <td>眼白蓝灰色或黑色斑点</td>\n",
       "      <td>-0.224298</td>\n",
       "    </tr>\n",
       "    <tr>\n",
       "      <th>532</th>\n",
       "      <td>同向性偏盲</td>\n",
       "      <td>-0.221122</td>\n",
       "    </tr>\n",
       "    <tr>\n",
       "      <th>658</th>\n",
       "      <td>乌珠生翳如葱白</td>\n",
       "      <td>-0.213497</td>\n",
       "    </tr>\n",
       "    <tr>\n",
       "      <th>1695</th>\n",
       "      <td>圆形或卵圆形丘疹或结节</td>\n",
       "      <td>-0.213143</td>\n",
       "    </tr>\n",
       "    <tr>\n",
       "      <th>1888</th>\n",
       "      <td>毛发色淡而呈棕色</td>\n",
       "      <td>-0.207285</td>\n",
       "    </tr>\n",
       "    <tr>\n",
       "      <th>2274</th>\n",
       "      <td>血溢脉外</td>\n",
       "      <td>-0.206542</td>\n",
       "    </tr>\n",
       "    <tr>\n",
       "      <th>1610</th>\n",
       "      <td>色素异常</td>\n",
       "      <td>-0.205027</td>\n",
       "    </tr>\n",
       "    <tr>\n",
       "      <th>635</th>\n",
       "      <td>瞳孔中能见到白色反光</td>\n",
       "      <td>-0.204423</td>\n",
       "    </tr>\n",
       "    <tr>\n",
       "      <th>663</th>\n",
       "      <td>瞳孔如锯齿或梅花状</td>\n",
       "      <td>-0.200152</td>\n",
       "    </tr>\n",
       "    <tr>\n",
       "      <th>2580</th>\n",
       "      <td>步态异常</td>\n",
       "      <td>-0.197698</td>\n",
       "    </tr>\n",
       "    <tr>\n",
       "      <th>530</th>\n",
       "      <td>虹膜蓝色</td>\n",
       "      <td>-0.195506</td>\n",
       "    </tr>\n",
       "    <tr>\n",
       "      <th>476</th>\n",
       "      <td>睑内翻</td>\n",
       "      <td>-0.195296</td>\n",
       "    </tr>\n",
       "    <tr>\n",
       "      <th>560</th>\n",
       "      <td>眼晶体前房棕色光反射</td>\n",
       "      <td>-0.194556</td>\n",
       "    </tr>\n",
       "    <tr>\n",
       "      <th>2510</th>\n",
       "      <td>手掌呈黄色</td>\n",
       "      <td>-0.193832</td>\n",
       "    </tr>\n",
       "    <tr>\n",
       "      <th>1028</th>\n",
       "      <td>腭部有黑色焦痂</td>\n",
       "      <td>-0.191781</td>\n",
       "    </tr>\n",
       "    <tr>\n",
       "      <th>1330</th>\n",
       "      <td>牙齿较小呈半透明状</td>\n",
       "      <td>-0.191091</td>\n",
       "    </tr>\n",
       "    <tr>\n",
       "      <th>...</th>\n",
       "      <td>...</td>\n",
       "      <td>...</td>\n",
       "    </tr>\n",
       "    <tr>\n",
       "      <th>711</th>\n",
       "      <td>上呼吸道卡他症状</td>\n",
       "      <td>0.451521</td>\n",
       "    </tr>\n",
       "    <tr>\n",
       "      <th>1641</th>\n",
       "      <td>反复发作的带状疱疹</td>\n",
       "      <td>0.454350</td>\n",
       "    </tr>\n",
       "    <tr>\n",
       "      <th>98</th>\n",
       "      <td>幻肢痛</td>\n",
       "      <td>0.468782</td>\n",
       "    </tr>\n",
       "    <tr>\n",
       "      <th>44</th>\n",
       "      <td>产后头痛</td>\n",
       "      <td>0.481478</td>\n",
       "    </tr>\n",
       "    <tr>\n",
       "      <th>1093</th>\n",
       "      <td>牙疼</td>\n",
       "      <td>0.489171</td>\n",
       "    </tr>\n",
       "    <tr>\n",
       "      <th>92</th>\n",
       "      <td>颅内头痛</td>\n",
       "      <td>0.489464</td>\n",
       "    </tr>\n",
       "    <tr>\n",
       "      <th>42</th>\n",
       "      <td>全头痛</td>\n",
       "      <td>0.494983</td>\n",
       "    </tr>\n",
       "    <tr>\n",
       "      <th>537</th>\n",
       "      <td>双眼难以忍受的奇痒</td>\n",
       "      <td>0.495689</td>\n",
       "    </tr>\n",
       "    <tr>\n",
       "      <th>394</th>\n",
       "      <td>始于眼部，扩张开来的面头痛</td>\n",
       "      <td>0.496155</td>\n",
       "    </tr>\n",
       "    <tr>\n",
       "      <th>99</th>\n",
       "      <td>癫痫的失神发作</td>\n",
       "      <td>0.503431</td>\n",
       "    </tr>\n",
       "    <tr>\n",
       "      <th>1496</th>\n",
       "      <td>咯吐不爽</td>\n",
       "      <td>0.527100</td>\n",
       "    </tr>\n",
       "    <tr>\n",
       "      <th>62</th>\n",
       "      <td>顽固性头痛</td>\n",
       "      <td>0.558813</td>\n",
       "    </tr>\n",
       "    <tr>\n",
       "      <th>219</th>\n",
       "      <td>夜寐不实</td>\n",
       "      <td>NaN</td>\n",
       "    </tr>\n",
       "    <tr>\n",
       "      <th>221</th>\n",
       "      <td>摸空症</td>\n",
       "      <td>NaN</td>\n",
       "    </tr>\n",
       "    <tr>\n",
       "      <th>274</th>\n",
       "      <td>酒悖</td>\n",
       "      <td>NaN</td>\n",
       "    </tr>\n",
       "    <tr>\n",
       "      <th>611</th>\n",
       "      <td>耀光感</td>\n",
       "      <td>NaN</td>\n",
       "    </tr>\n",
       "    <tr>\n",
       "      <th>696</th>\n",
       "      <td>流清涕</td>\n",
       "      <td>NaN</td>\n",
       "    </tr>\n",
       "    <tr>\n",
       "      <th>706</th>\n",
       "      <td>鼻溢液</td>\n",
       "      <td>NaN</td>\n",
       "    </tr>\n",
       "    <tr>\n",
       "      <th>733</th>\n",
       "      <td>鼻内痛</td>\n",
       "      <td>NaN</td>\n",
       "    </tr>\n",
       "    <tr>\n",
       "      <th>735</th>\n",
       "      <td>鼻臭症</td>\n",
       "      <td>NaN</td>\n",
       "    </tr>\n",
       "    <tr>\n",
       "      <th>860</th>\n",
       "      <td>耳溢液</td>\n",
       "      <td>NaN</td>\n",
       "    </tr>\n",
       "    <tr>\n",
       "      <th>1387</th>\n",
       "      <td>栓状齿</td>\n",
       "      <td>NaN</td>\n",
       "    </tr>\n",
       "    <tr>\n",
       "      <th>1489</th>\n",
       "      <td>猫喘音</td>\n",
       "      <td>NaN</td>\n",
       "    </tr>\n",
       "    <tr>\n",
       "      <th>1523</th>\n",
       "      <td>瘟暑</td>\n",
       "      <td>NaN</td>\n",
       "    </tr>\n",
       "    <tr>\n",
       "      <th>1915</th>\n",
       "      <td>溴疹</td>\n",
       "      <td>NaN</td>\n",
       "    </tr>\n",
       "    <tr>\n",
       "      <th>2193</th>\n",
       "      <td>脉濡弱</td>\n",
       "      <td>NaN</td>\n",
       "    </tr>\n",
       "    <tr>\n",
       "      <th>2223</th>\n",
       "      <td>迫血妄行</td>\n",
       "      <td>NaN</td>\n",
       "    </tr>\n",
       "    <tr>\n",
       "      <th>2284</th>\n",
       "      <td>脉洪滑数</td>\n",
       "      <td>NaN</td>\n",
       "    </tr>\n",
       "    <tr>\n",
       "      <th>2635</th>\n",
       "      <td>恐水症</td>\n",
       "      <td>NaN</td>\n",
       "    </tr>\n",
       "    <tr>\n",
       "      <th>2808</th>\n",
       "      <td>凸甲</td>\n",
       "      <td>NaN</td>\n",
       "    </tr>\n",
       "  </tbody>\n",
       "</table>\n",
       "<p>3032 rows × 2 columns</p>\n",
       "</div>"
      ],
      "text/plain": [
       "                 zz         e\n",
       "541    眼底发现黄斑呈带灰色变色 -0.268249\n",
       "2805     足跟蓝黑色或黑色斑点 -0.261248\n",
       "2266   诊断室中所测血压始终增高 -0.258950\n",
       "776           鼻唇沟变浅 -0.245501\n",
       "754     鼻中隔向一侧或两则弯曲 -0.244906\n",
       "1889   蓝色、蓝灰色或蓝黑色丘疹 -0.242348\n",
       "1722   皮肤水疱，后形成黑色干痂 -0.241613\n",
       "2934    骶部可有皮赘，形成尾巴 -0.239277\n",
       "1044          面容呈灰色 -0.239224\n",
       "1533         成人大便绿色 -0.237868\n",
       "474         视野向心性缩小 -0.237693\n",
       "1123          牙周袋形成 -0.234027\n",
       "1334      牙冠呈半透明乳光色 -0.234010\n",
       "2709           Q角异常 -0.230580\n",
       "454      眼白蓝灰色或黑色斑点 -0.224298\n",
       "532           同向性偏盲 -0.221122\n",
       "658         乌珠生翳如葱白 -0.213497\n",
       "1695    圆形或卵圆形丘疹或结节 -0.213143\n",
       "1888       毛发色淡而呈棕色 -0.207285\n",
       "2274           血溢脉外 -0.206542\n",
       "1610           色素异常 -0.205027\n",
       "635      瞳孔中能见到白色反光 -0.204423\n",
       "663       瞳孔如锯齿或梅花状 -0.200152\n",
       "2580           步态异常 -0.197698\n",
       "530            虹膜蓝色 -0.195506\n",
       "476             睑内翻 -0.195296\n",
       "560      眼晶体前房棕色光反射 -0.194556\n",
       "2510          手掌呈黄色 -0.193832\n",
       "1028        腭部有黑色焦痂 -0.191781\n",
       "1330      牙齿较小呈半透明状 -0.191091\n",
       "...             ...       ...\n",
       "711        上呼吸道卡他症状  0.451521\n",
       "1641      反复发作的带状疱疹  0.454350\n",
       "98              幻肢痛  0.468782\n",
       "44             产后头痛  0.481478\n",
       "1093             牙疼  0.489171\n",
       "92             颅内头痛  0.489464\n",
       "42              全头痛  0.494983\n",
       "537       双眼难以忍受的奇痒  0.495689\n",
       "394   始于眼部，扩张开来的面头痛  0.496155\n",
       "99          癫痫的失神发作  0.503431\n",
       "1496           咯吐不爽  0.527100\n",
       "62            顽固性头痛  0.558813\n",
       "219            夜寐不实       NaN\n",
       "221             摸空症       NaN\n",
       "274              酒悖       NaN\n",
       "611             耀光感       NaN\n",
       "696             流清涕       NaN\n",
       "706             鼻溢液       NaN\n",
       "733             鼻内痛       NaN\n",
       "735             鼻臭症       NaN\n",
       "860             耳溢液       NaN\n",
       "1387            栓状齿       NaN\n",
       "1489            猫喘音       NaN\n",
       "1523             瘟暑       NaN\n",
       "1915             溴疹       NaN\n",
       "2193            脉濡弱       NaN\n",
       "2223           迫血妄行       NaN\n",
       "2284           脉洪滑数       NaN\n",
       "2635            恐水症       NaN\n",
       "2808             凸甲       NaN\n",
       "\n",
       "[3032 rows x 2 columns]"
      ]
     },
     "execution_count": 40,
     "metadata": {},
     "output_type": "execute_result"
    }
   ],
   "source": [
    "pdw.sort_by_column(df,'e')"
   ]
  }
 ],
 "metadata": {
  "kernelspec": {
   "display_name": "Python 3",
   "language": "python",
   "name": "python3"
  },
  "language_info": {
   "codemirror_mode": {
    "name": "ipython",
    "version": 3
   },
   "file_extension": ".py",
   "mimetype": "text/x-python",
   "name": "python",
   "nbconvert_exporter": "python",
   "pygments_lexer": "ipython3",
   "version": "3.6.5"
  }
 },
 "nbformat": 4,
 "nbformat_minor": 2
}
