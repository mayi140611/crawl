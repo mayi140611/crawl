{
 "cells": [
  {
   "cell_type": "markdown",
   "metadata": {},
   "source": [
    "* 给姚媛整理的疾病表格式  \n",
    "* 根据姚媛的整理结果更新疾病库"
   ]
  },
  {
   "cell_type": "code",
   "execution_count": 1,
   "metadata": {},
   "outputs": [],
   "source": [
    "import sys\n",
    "sys.path.append('/home/ian/code/github')"
   ]
  },
  {
   "cell_type": "code",
   "execution_count": 2,
   "metadata": {},
   "outputs": [],
   "source": [
    "from utils.pymongo_wrapper import pymongo_wrapper\n",
    "pmw = pymongo_wrapper()\n",
    "table = pmw.get_collection('jiankang39','diseases')"
   ]
  },
  {
   "cell_type": "code",
   "execution_count": 10,
   "metadata": {},
   "outputs": [],
   "source": [
    "c=list(pmw.find_all(table,fieldlist=['疾病名称','简介','典型症状','多发人群']))"
   ]
  },
  {
   "cell_type": "code",
   "execution_count": 4,
   "metadata": {},
   "outputs": [],
   "source": [
    "from utils.pandas_wrapper import pandas_wrapper as pdw"
   ]
  },
  {
   "cell_type": "code",
   "execution_count": 12,
   "metadata": {},
   "outputs": [],
   "source": [
    "l1 = list()\n",
    "l2 = list()\n",
    "l3 = list()\n",
    "for i in c:\n",
    "    if '多发人群' in i:\n",
    "        l1.append(i['多发人群'])\n",
    "    else:\n",
    "        l1.append(None)\n",
    "    if '简介' in i:\n",
    "        l2.append(i['简介'])\n",
    "    else:\n",
    "        l2.append(None)\n",
    "    if '典型症状' in i:\n",
    "        l3.append(','.join(i['典型症状']))\n",
    "    else:\n",
    "        l3.append(None)"
   ]
  },
  {
   "cell_type": "code",
   "execution_count": 17,
   "metadata": {
    "scrolled": true
   },
   "outputs": [
    {
     "ename": "NameError",
     "evalue": "name 'pdw' is not defined",
     "output_type": "error",
     "traceback": [
      "\u001b[0;31m---------------------------------------------------------------------------\u001b[0m",
      "\u001b[0;31mNameError\u001b[0m                                 Traceback (most recent call last)",
      "\u001b[0;32m<ipython-input-17-f6429ed7fe1c>\u001b[0m in \u001b[0;36m<module>\u001b[0;34m()\u001b[0m\n\u001b[0;32m----> 1\u001b[0;31m \u001b[0mdf\u001b[0m \u001b[0;34m=\u001b[0m \u001b[0mpdw\u001b[0m\u001b[0;34m.\u001b[0m\u001b[0mbuild_df_from_dict\u001b[0m\u001b[0;34m(\u001b[0m\u001b[0;34m{\u001b[0m\u001b[0;34m'疾病名称'\u001b[0m\u001b[0;34m:\u001b[0m\u001b[0;34m[\u001b[0m\u001b[0mi\u001b[0m\u001b[0;34m[\u001b[0m\u001b[0;34m'疾病名称'\u001b[0m\u001b[0;34m]\u001b[0m \u001b[0;32mfor\u001b[0m \u001b[0mi\u001b[0m \u001b[0;32min\u001b[0m \u001b[0mc\u001b[0m\u001b[0;34m]\u001b[0m\u001b[0;34m,\u001b[0m\u001b[0;34m'简介'\u001b[0m\u001b[0;34m:\u001b[0m\u001b[0ml2\u001b[0m\u001b[0;34m,\u001b[0m\u001b[0;34m'典型症状'\u001b[0m\u001b[0;34m:\u001b[0m\u001b[0ml3\u001b[0m\u001b[0;34m,\u001b[0m\u001b[0;34m'多发人群'\u001b[0m\u001b[0;34m:\u001b[0m\u001b[0ml1\u001b[0m\u001b[0;34m}\u001b[0m\u001b[0;34m)\u001b[0m\u001b[0;34m\u001b[0m\u001b[0m\n\u001b[0m\u001b[1;32m      2\u001b[0m \u001b[0mdf\u001b[0m\u001b[0;34m.\u001b[0m\u001b[0mhead\u001b[0m\u001b[0;34m(\u001b[0m\u001b[0;34m)\u001b[0m\u001b[0;34m\u001b[0m\u001b[0m\n",
      "\u001b[0;31mNameError\u001b[0m: name 'pdw' is not defined"
     ]
    }
   ],
   "source": [
    "df = pdw.build_df_from_dict({'疾病名称':[i['疾病名称'] for i in c],'简介':l2,'典型症状':l3,'多发人群':l1})\n",
    "df.head()"
   ]
  },
  {
   "cell_type": "code",
   "execution_count": 15,
   "metadata": {},
   "outputs": [],
   "source": [
    "df.to_csv('/home/ian/code/data/daozhen/39疾病列表.csv',encoding='utf8')"
   ]
  },
  {
   "cell_type": "markdown",
   "metadata": {},
   "source": [
    "## 根据姚媛的整理结果更新疾病库"
   ]
  },
  {
   "cell_type": "code",
   "execution_count": 3,
   "metadata": {},
   "outputs": [],
   "source": [
    "import pandas as pd"
   ]
  },
  {
   "cell_type": "code",
   "execution_count": 18,
   "metadata": {},
   "outputs": [
    {
     "data": {
      "text/html": [
       "<div>\n",
       "<style scoped>\n",
       "    .dataframe tbody tr th:only-of-type {\n",
       "        vertical-align: middle;\n",
       "    }\n",
       "\n",
       "    .dataframe tbody tr th {\n",
       "        vertical-align: top;\n",
       "    }\n",
       "\n",
       "    .dataframe thead th {\n",
       "        text-align: right;\n",
       "    }\n",
       "</style>\n",
       "<table border=\"1\" class=\"dataframe\">\n",
       "  <thead>\n",
       "    <tr style=\"text-align: right;\">\n",
       "      <th></th>\n",
       "      <th>疾病名称</th>\n",
       "      <th>简介</th>\n",
       "      <th>典型症状</th>\n",
       "      <th>多发人群</th>\n",
       "      <th>罕见程度</th>\n",
       "      <th>多发性别1：男2：女</th>\n",
       "      <th>多发年龄</th>\n",
       "      <th>限定性别</th>\n",
       "      <th>限定年龄</th>\n",
       "      <th>备注</th>\n",
       "      <th>Unnamed: 10</th>\n",
       "    </tr>\n",
       "  </thead>\n",
       "  <tbody>\n",
       "    <tr>\n",
       "      <th>0</th>\n",
       "      <td>偏头痛</td>\n",
       "      <td>偏头痛是一类有家族发病倾向的周期性发作疾病。表现为发作性的偏侧搏动性头痛，伴恶心、呕吐及羞明...</td>\n",
       "      <td>单侧头痛,电击样痛或刺痛的头痛,头痛为搏动性</td>\n",
       "      <td>女性占2/3以上， 10岁前、20岁前、40岁前发病分别为25%， 55%， 90%。</td>\n",
       "      <td>2</td>\n",
       "      <td>2</td>\n",
       "      <td></td>\n",
       "      <td></td>\n",
       "      <td></td>\n",
       "      <td></td>\n",
       "      <td></td>\n",
       "    </tr>\n",
       "    <tr>\n",
       "      <th>1</th>\n",
       "      <td>帕金森</td>\n",
       "      <td>帕金森病(Parkinsons disease)又称震颤麻痹，巴金森氏症或柏金逊症，多在60...</td>\n",
       "      <td>静止性震颤,肌张力过高,感觉障碍</td>\n",
       "      <td>老年人，于40～70岁，60岁后发病率增高，30多岁前发病少见。</td>\n",
       "      <td>2</td>\n",
       "      <td></td>\n",
       "      <td>67</td>\n",
       "      <td></td>\n",
       "      <td></td>\n",
       "      <td></td>\n",
       "      <td></td>\n",
       "    </tr>\n",
       "    <tr>\n",
       "      <th>2</th>\n",
       "      <td>老年痴呆症</td>\n",
       "      <td>阿尔茨海默病(Alzheimer’s disease，AD)是慢性进行性中枢神经系统变性病导...</td>\n",
       "      <td></td>\n",
       "      <td></td>\n",
       "      <td>1</td>\n",
       "      <td></td>\n",
       "      <td></td>\n",
       "      <td></td>\n",
       "      <td>7</td>\n",
       "      <td></td>\n",
       "      <td></td>\n",
       "    </tr>\n",
       "    <tr>\n",
       "      <th>3</th>\n",
       "      <td>蛛网膜下腔出血</td>\n",
       "      <td>蛛网膜下腔出血(subarachnoid hemorrhage，SAH)是出血性脑血管病的一...</td>\n",
       "      <td>脑膜刺激症状,定位神经体征,偏瘫</td>\n",
       "      <td>30～40岁青壮年多见，也有的报道80%的发病年龄在30～69岁。男性稍多于女性。</td>\n",
       "      <td>0</td>\n",
       "      <td>1</td>\n",
       "      <td></td>\n",
       "      <td></td>\n",
       "      <td></td>\n",
       "      <td></td>\n",
       "      <td></td>\n",
       "    </tr>\n",
       "    <tr>\n",
       "      <th>4</th>\n",
       "      <td>小儿多动症</td>\n",
       "      <td>儿童多动症、多动综合征(hyperkinetic syndrome of childhood...</td>\n",
       "      <td>注意力不集中,情绪起伏大,学习困难</td>\n",
       "      <td>婴幼儿</td>\n",
       "      <td>2</td>\n",
       "      <td></td>\n",
       "      <td></td>\n",
       "      <td></td>\n",
       "      <td>23</td>\n",
       "      <td></td>\n",
       "      <td></td>\n",
       "    </tr>\n",
       "  </tbody>\n",
       "</table>\n",
       "</div>"
      ],
      "text/plain": [
       "      疾病名称                                                 简介  \\\n",
       "0      偏头痛  偏头痛是一类有家族发病倾向的周期性发作疾病。表现为发作性的偏侧搏动性头痛，伴恶心、呕吐及羞明...   \n",
       "1      帕金森  帕金森病(Parkinsons disease)又称震颤麻痹，巴金森氏症或柏金逊症，多在60...   \n",
       "2    老年痴呆症  阿尔茨海默病(Alzheimer’s disease，AD)是慢性进行性中枢神经系统变性病导...   \n",
       "3  蛛网膜下腔出血  蛛网膜下腔出血(subarachnoid hemorrhage，SAH)是出血性脑血管病的一...   \n",
       "4    小儿多动症  儿童多动症、多动综合征(hyperkinetic syndrome of childhood...   \n",
       "\n",
       "                     典型症状                                         多发人群  罕见程度  \\\n",
       "0  单侧头痛,电击样痛或刺痛的头痛,头痛为搏动性  女性占2/3以上， 10岁前、20岁前、40岁前发病分别为25%， 55%， 90%。     2   \n",
       "1        静止性震颤,肌张力过高,感觉障碍             老年人，于40～70岁，60岁后发病率增高，30多岁前发病少见。     2   \n",
       "2                                                                          1   \n",
       "3        脑膜刺激症状,定位神经体征,偏瘫    30～40岁青壮年多见，也有的报道80%的发病年龄在30～69岁。男性稍多于女性。     0   \n",
       "4       注意力不集中,情绪起伏大,学习困难                                          婴幼儿     2   \n",
       "\n",
       "  多发性别1：男2：女 多发年龄 限定性别 限定年龄 备注 Unnamed: 10  \n",
       "0          2                                \n",
       "1              67                           \n",
       "2                         7                 \n",
       "3          1                                \n",
       "4                        23                 "
      ]
     },
     "execution_count": 18,
     "metadata": {},
     "output_type": "execute_result"
    }
   ],
   "source": [
    "df = pd.read_excel('/home/ian/code/data/daozhen/39疾病列表-更新.xlsx').fillna('')\n",
    "df.head()"
   ]
  },
  {
   "cell_type": "code",
   "execution_count": 21,
   "metadata": {},
   "outputs": [
    {
     "data": {
      "text/plain": [
       "(7450, 11)"
      ]
     },
     "execution_count": 21,
     "metadata": {},
     "output_type": "execute_result"
    }
   ],
   "source": [
    "df.shape"
   ]
  },
  {
   "cell_type": "code",
   "execution_count": 13,
   "metadata": {},
   "outputs": [],
   "source": [
    "otherdict = {'普通':[0],'孕妇':[1],'产褥期':[2],'孕产妇':[1,2]}"
   ]
  },
  {
   "cell_type": "code",
   "execution_count": 20,
   "metadata": {},
   "outputs": [],
   "source": [
    "for i,n in df['疾病名称'].items():\n",
    "    try:\n",
    "        d = table.find_one({'疾病名称':n})\n",
    "        d['罕见程度'] = int(df.iloc[i,4])\n",
    "        if df.iloc[i,5]:\n",
    "            d['多发性别'] = [int(df.iloc[i,5])-1]\n",
    "        else:\n",
    "            d['多发性别'] = [0,1]\n",
    "\n",
    "        if df.iloc[i,6]:\n",
    "            d['多发年龄'] = list(str(int(df.iloc[i,6])))\n",
    "        else:\n",
    "            d['多发年龄'] = ['1', '2', '3', '4', '5', '6', '7']\n",
    "        if df.iloc[i,7]:\n",
    "            d['限定性别'] = [int(df.iloc[i,7])-1]\n",
    "        else:\n",
    "            d['限定性别'] = [0,1]\n",
    "        if df.iloc[i,8]:\n",
    "            d['限定年龄'] = list(str(int(df.iloc[i,8])))\n",
    "        else:\n",
    "            d['限定年龄'] = ['1', '2', '3', '4', '5', '6', '7']\n",
    "        if df.iloc[i,9]:\n",
    "            if df.iloc[i,9] in otherdict:\n",
    "                d['备注'] = otherdict[df.iloc[i,9]]\n",
    "        else:\n",
    "            d['备注'] = [0,1,2]\n",
    "        pmw.update_doc(table,{'_id':d['_id']},d)\n",
    "    except Exception as e:\n",
    "        print(e)\n",
    "        print(i,n)"
   ]
  },
  {
   "cell_type": "code",
   "execution_count": 9,
   "metadata": {},
   "outputs": [
    {
     "data": {
      "text/plain": [
       "float"
      ]
     },
     "execution_count": 9,
     "metadata": {},
     "output_type": "execute_result"
    }
   ],
   "source": [
    "type(df.iloc[0,5])"
   ]
  },
  {
   "cell_type": "code",
   "execution_count": 12,
   "metadata": {},
   "outputs": [
    {
     "data": {
      "text/plain": [
       "['1', '2', '3', '4', '5', '6', '7']"
      ]
     },
     "execution_count": 12,
     "metadata": {},
     "output_type": "execute_result"
    }
   ],
   "source": [
    "list('1234567')"
   ]
  },
  {
   "cell_type": "code",
   "execution_count": null,
   "metadata": {},
   "outputs": [],
   "source": []
  }
 ],
 "metadata": {
  "kernelspec": {
   "display_name": "Python 3",
   "language": "python",
   "name": "python3"
  },
  "language_info": {
   "codemirror_mode": {
    "name": "ipython",
    "version": 3
   },
   "file_extension": ".py",
   "mimetype": "text/x-python",
   "name": "python",
   "nbconvert_exporter": "python",
   "pygments_lexer": "ipython3",
   "version": "3.6.5"
  }
 },
 "nbformat": 4,
 "nbformat_minor": 2
}
