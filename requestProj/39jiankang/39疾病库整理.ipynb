{
 "cells": [
  {
   "cell_type": "code",
   "execution_count": 1,
   "metadata": {},
   "outputs": [],
   "source": [
    "import sys\n",
    "sys.path.append('/home/ian/code/github')"
   ]
  },
  {
   "cell_type": "code",
   "execution_count": 2,
   "metadata": {},
   "outputs": [],
   "source": [
    "from utils.pymongo_wrapper import pymongo_wrapper\n",
    "pmw = pymongo_wrapper()\n",
    "table = pmw.get_collection('jiankang39','diseases')"
   ]
  },
  {
   "cell_type": "code",
   "execution_count": 10,
   "metadata": {},
   "outputs": [],
   "source": [
    "c=list(pmw.find_all(table,fieldlist=['疾病名称','简介','典型症状','多发人群']))"
   ]
  },
  {
   "cell_type": "code",
   "execution_count": 4,
   "metadata": {},
   "outputs": [],
   "source": [
    "from utils.pandas_wrapper import pandas_wrapper as pdw"
   ]
  },
  {
   "cell_type": "code",
   "execution_count": 12,
   "metadata": {},
   "outputs": [],
   "source": [
    "l1 = list()\n",
    "l2 = list()\n",
    "l3 = list()\n",
    "for i in c:\n",
    "    if '多发人群' in i:\n",
    "        l1.append(i['多发人群'])\n",
    "    else:\n",
    "        l1.append(None)\n",
    "    if '简介' in i:\n",
    "        l2.append(i['简介'])\n",
    "    else:\n",
    "        l2.append(None)\n",
    "    if '典型症状' in i:\n",
    "        l3.append(','.join(i['典型症状']))\n",
    "    else:\n",
    "        l3.append(None)"
   ]
  },
  {
   "cell_type": "code",
   "execution_count": 13,
   "metadata": {},
   "outputs": [
    {
     "data": {
      "text/html": [
       "<div>\n",
       "<style scoped>\n",
       "    .dataframe tbody tr th:only-of-type {\n",
       "        vertical-align: middle;\n",
       "    }\n",
       "\n",
       "    .dataframe tbody tr th {\n",
       "        vertical-align: top;\n",
       "    }\n",
       "\n",
       "    .dataframe thead th {\n",
       "        text-align: right;\n",
       "    }\n",
       "</style>\n",
       "<table border=\"1\" class=\"dataframe\">\n",
       "  <thead>\n",
       "    <tr style=\"text-align: right;\">\n",
       "      <th></th>\n",
       "      <th>疾病名称</th>\n",
       "      <th>简介</th>\n",
       "      <th>典型症状</th>\n",
       "      <th>多发人群</th>\n",
       "    </tr>\n",
       "  </thead>\n",
       "  <tbody>\n",
       "    <tr>\n",
       "      <th>0</th>\n",
       "      <td>偏头痛</td>\n",
       "      <td>偏头痛是一类有家族发病倾向的周期性发作疾病。表现为发作性的偏侧搏动性头痛，伴恶心、呕吐及羞明...</td>\n",
       "      <td>单侧头痛,电击样痛或刺痛的头痛,头痛为搏动性</td>\n",
       "      <td>女性占2/3以上， 10岁前、20岁前、40岁前发病分别为25%， 55%， 90%。</td>\n",
       "    </tr>\n",
       "    <tr>\n",
       "      <th>1</th>\n",
       "      <td>帕金森</td>\n",
       "      <td>帕金森病(Parkinsons disease)又称震颤麻痹，巴金森氏症或柏金逊症，多在60...</td>\n",
       "      <td>静止性震颤,肌张力过高,感觉障碍</td>\n",
       "      <td>老年人，于40～70岁，60岁后发病率增高，30多岁前发病少见。</td>\n",
       "    </tr>\n",
       "    <tr>\n",
       "      <th>2</th>\n",
       "      <td>老年痴呆症</td>\n",
       "      <td>阿尔茨海默病(Alzheimer’s disease，AD)是慢性进行性中枢神经系统变性病导...</td>\n",
       "      <td>None</td>\n",
       "      <td>None</td>\n",
       "    </tr>\n",
       "    <tr>\n",
       "      <th>3</th>\n",
       "      <td>蛛网膜下腔出血</td>\n",
       "      <td>蛛网膜下腔出血(subarachnoid hemorrhage，SAH)是出血性脑血管病的一...</td>\n",
       "      <td>脑膜刺激症状,定位神经体征,偏瘫</td>\n",
       "      <td>30～40岁青壮年多见，也有的报道80%的发病年龄在30～69岁。男性稍多于女性。</td>\n",
       "    </tr>\n",
       "    <tr>\n",
       "      <th>4</th>\n",
       "      <td>小儿多动症</td>\n",
       "      <td>儿童多动症、多动综合征(hyperkinetic syndrome of childhood...</td>\n",
       "      <td>注意力不集中,情绪起伏大,学习困难</td>\n",
       "      <td>婴幼儿</td>\n",
       "    </tr>\n",
       "  </tbody>\n",
       "</table>\n",
       "</div>"
      ],
      "text/plain": [
       "  ...\n",
       "0 ...\n",
       "1 ...\n",
       "2 ...\n",
       "3 ...\n",
       "4 ...\n",
       "\n",
       "[5 rows x 4 columns]"
      ]
     },
     "execution_count": 13,
     "metadata": {},
     "output_type": "execute_result"
    }
   ],
   "source": [
    "df = pdw.build_df_from_dict({'疾病名称':[i['疾病名称'] for i in c],'简介':l2,'典型症状':l3,'多发人群':l1})\n",
    "df.head()"
   ]
  },
  {
   "cell_type": "code",
   "execution_count": 15,
   "metadata": {},
   "outputs": [],
   "source": [
    "df.to_csv('/home/ian/code/data/daozhen/39疾病列表.csv',encoding='utf8')"
   ]
  },
  {
   "cell_type": "code",
   "execution_count": null,
   "metadata": {},
   "outputs": [],
   "source": []
  }
 ],
 "metadata": {
  "kernelspec": {
   "display_name": "Python 3",
   "language": "python",
   "name": "python3"
  },
  "language_info": {
   "codemirror_mode": {
    "name": "ipython",
    "version": 3
   },
   "file_extension": ".py",
   "mimetype": "text/x-python",
   "name": "python",
   "nbconvert_exporter": "python",
   "pygments_lexer": "ipython3",
   "version": "3.6.5"
  }
 },
 "nbformat": 4,
 "nbformat_minor": 2
}
