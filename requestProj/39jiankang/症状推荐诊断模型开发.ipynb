{
 "cells": [
  {
   "cell_type": "code",
   "execution_count": 1,
   "metadata": {},
   "outputs": [],
   "source": [
    "import sys\n",
    "sys.path.append('/home/ian/code/github')"
   ]
  },
  {
   "cell_type": "code",
   "execution_count": 2,
   "metadata": {},
   "outputs": [],
   "source": [
    "from utils.pymongo_wrapper import pymongo_wrapper"
   ]
  },
  {
   "cell_type": "code",
   "execution_count": 3,
   "metadata": {},
   "outputs": [],
   "source": [
    "pmw = pymongo_wrapper()"
   ]
  },
  {
   "cell_type": "code",
   "execution_count": 4,
   "metadata": {},
   "outputs": [],
   "source": [
    "zztable = pmw.get_collection('jiankang39','zz')"
   ]
  },
  {
   "cell_type": "code",
   "execution_count": 6,
   "metadata": {},
   "outputs": [
    {
     "data": {
      "text/plain": [
       "[{'症状名称': '脑血管痉挛', '相关疾病': ['颅内动脉瘤', '小儿甲状旁腺功能减退症']},\n",
       " {'症状名称': '脑干出血',\n",
       "  '相关疾病': ['高血压性脑出血', '脑出血', '脑胶质瘤', '小脑脑桥角脑膜瘤', '小儿原发性脑干损伤', '小儿脑干胶质瘤']}]"
      ]
     },
     "execution_count": 6,
     "metadata": {},
     "output_type": "execute_result"
    }
   ],
   "source": [
    "zzlist = list(pmw.find_all(zztable,fieldlist=['症状名称','相关疾病']))\n",
    "zzlist[:2]"
   ]
  },
  {
   "cell_type": "code",
   "execution_count": 7,
   "metadata": {},
   "outputs": [
    {
     "data": {
      "text/plain": [
       "5898"
      ]
     },
     "execution_count": 7,
     "metadata": {},
     "output_type": "execute_result"
    }
   ],
   "source": [
    "zzs = list({i['症状名称'] for i in zzlist})\n",
    "len(zzs)"
   ]
  },
  {
   "cell_type": "code",
   "execution_count": 11,
   "metadata": {},
   "outputs": [
    {
     "data": {
      "text/plain": [
       "7068"
      ]
     },
     "execution_count": 11,
     "metadata": {},
     "output_type": "execute_result"
    }
   ],
   "source": [
    "diseases = set()\n",
    "for i in zzlist:\n",
    "    diseases = diseases.union(i['相关疾病'])\n",
    "diseases = list(diseases)\n",
    "len(diseases)"
   ]
  },
  {
   "cell_type": "code",
   "execution_count": 12,
   "metadata": {},
   "outputs": [],
   "source": [
    "from utils.pandas_wrapper import pandas_wrapper as pdw "
   ]
  },
  {
   "cell_type": "code",
   "execution_count": 13,
   "metadata": {},
   "outputs": [
    {
     "data": {
      "text/plain": [
       "0       眼睛刺痛\n",
       "1        足跟痛\n",
       "2     口腔黏膜脱落\n",
       "3     皮下脂肪增多\n",
       "4    甲状腺功能低下\n",
       "dtype: object"
      ]
     },
     "execution_count": 13,
     "metadata": {},
     "output_type": "execute_result"
    }
   ],
   "source": [
    "zzseries = pdw.build_series(zzs)\n",
    "zzseries[:5]"
   ]
  },
  {
   "cell_type": "code",
   "execution_count": 15,
   "metadata": {},
   "outputs": [
    {
     "data": {
      "text/plain": [
       "0      缩窄性心包炎\n",
       "1    小儿骨与关节结核\n",
       "2        巨大胎儿\n",
       "3      药物性食管炎\n",
       "4       疱疹样湿疹\n",
       "dtype: object"
      ]
     },
     "execution_count": 15,
     "metadata": {},
     "output_type": "execute_result"
    }
   ],
   "source": [
    "disseries = pdw.build_series(diseases)\n",
    "disseries[:5]"
   ]
  },
  {
   "cell_type": "code",
   "execution_count": 17,
   "metadata": {},
   "outputs": [
    {
     "data": {
      "text/plain": [
       "眼睛刺痛       0\n",
       "足跟痛        1\n",
       "口腔黏膜脱落     2\n",
       "皮下脂肪增多     3\n",
       "甲状腺功能低下    4\n",
       "dtype: int64"
      ]
     },
     "execution_count": 17,
     "metadata": {},
     "output_type": "execute_result"
    }
   ],
   "source": [
    "zzseries_inv = pdw.build_series(zzseries.index,index=zzseries.values)\n",
    "zzseries_inv[:5]"
   ]
  },
  {
   "cell_type": "code",
   "execution_count": 18,
   "metadata": {},
   "outputs": [
    {
     "data": {
      "text/plain": [
       "缩窄性心包炎      0\n",
       "小儿骨与关节结核    1\n",
       "巨大胎儿        2\n",
       "药物性食管炎      3\n",
       "疱疹样湿疹       4\n",
       "dtype: int64"
      ]
     },
     "execution_count": 18,
     "metadata": {},
     "output_type": "execute_result"
    }
   ],
   "source": [
    "disseries_inv = pdw.build_series(disseries.index,index=disseries.values)\n",
    "disseries_inv[:5]"
   ]
  },
  {
   "cell_type": "code",
   "execution_count": 19,
   "metadata": {},
   "outputs": [],
   "source": [
    "from utils.numpy_wrapper import numpy_wrapper as npw"
   ]
  },
  {
   "cell_type": "code",
   "execution_count": 20,
   "metadata": {},
   "outputs": [],
   "source": [
    "zzdismatr = npw.build_zeros_array((len(zzseries),len(disseries)))"
   ]
  },
  {
   "cell_type": "code",
   "execution_count": 21,
   "metadata": {},
   "outputs": [],
   "source": [
    "for i in zzlist:\n",
    "    x = zzseries_inv[i['症状名称']]\n",
    "    for ii in i['相关疾病']:\n",
    "        zzdismatr[x,disseries_inv[ii]] = 1"
   ]
  },
  {
   "cell_type": "code",
   "execution_count": 26,
   "metadata": {},
   "outputs": [],
   "source": [
    "diszzmatr = zzdismatr.T"
   ]
  },
  {
   "cell_type": "code",
   "execution_count": 75,
   "metadata": {},
   "outputs": [],
   "source": [
    "zz1 = ['脑血管痉挛']\n",
    "temp = npw.build_zeros_array((1,len(zzseries)))[0]\n",
    "for i in zz1:\n",
    "    temp[zzseries_inv[i]] = 1"
   ]
  },
  {
   "cell_type": "code",
   "execution_count": 78,
   "metadata": {},
   "outputs": [],
   "source": [
    "from math import sqrt\n",
    "def cal_cos_similarity(a1,a2):\n",
    "    a = a1.dot(a2)\n",
    "    b = a1.dot(a1)\n",
    "    c = a2.dot(a2)\n",
    "    if b == 0 or c==0:\n",
    "        return 0\n",
    "    return a/sqrt( b*c )"
   ]
  },
  {
   "cell_type": "code",
   "execution_count": 39,
   "metadata": {},
   "outputs": [
    {
     "data": {
      "text/plain": [
       "array([0., 0., 0., ..., 0., 0., 0.])"
      ]
     },
     "execution_count": 39,
     "metadata": {},
     "output_type": "execute_result"
    }
   ],
   "source": [
    "diszzmatr[1]"
   ]
  },
  {
   "cell_type": "code",
   "execution_count": 41,
   "metadata": {},
   "outputs": [
    {
     "data": {
      "text/plain": [
       "(7068, 5898)"
      ]
     },
     "execution_count": 41,
     "metadata": {},
     "output_type": "execute_result"
    }
   ],
   "source": [
    "diszzmatr.shape"
   ]
  },
  {
   "cell_type": "code",
   "execution_count": 42,
   "metadata": {},
   "outputs": [
    {
     "data": {
      "text/plain": [
       "(1, 5898)"
      ]
     },
     "execution_count": 42,
     "metadata": {},
     "output_type": "execute_result"
    }
   ],
   "source": [
    "temp.shape"
   ]
  },
  {
   "cell_type": "code",
   "execution_count": 108,
   "metadata": {
    "scrolled": true
   },
   "outputs": [],
   "source": [
    "def zz2disease(zzs,n=None):\n",
    "    temp = npw.build_zeros_array((1,len(zzseries)))[0]\n",
    "    for i in zzs:\n",
    "        temp[zzseries_inv[i]] = 1\n",
    "    l1 = list()\n",
    "    for i in range(len(disseries)):\n",
    "        l1.append(cal_cos_similarity(temp,diszzmatr[i]))\n",
    "    s1 = pdw.build_series(l1)\n",
    "    s2 = s1.sort_values(ascending=False)\n",
    "    if n:\n",
    "        list(disseries[s2.iloc[s2.nonzero()].index].values)[:n],list(s2.iloc[s2.nonzero()].values)[:n]\n",
    "    return list(disseries[s2.iloc[s2.nonzero()].index].values),list(s2.iloc[s2.nonzero()].values)"
   ]
  },
  {
   "cell_type": "code",
   "execution_count": 109,
   "metadata": {},
   "outputs": [
    {
     "data": {
      "text/plain": [
       "(['颅内动脉瘤', '小儿甲状旁腺功能减退症'], [0.35355339059327373, 0.2672612419124244])"
      ]
     },
     "execution_count": 109,
     "metadata": {},
     "output_type": "execute_result"
    }
   ],
   "source": [
    "zz1 = ['脑血管痉挛']\n",
    "zz2disease(zz1)"
   ]
  },
  {
   "cell_type": "code",
   "execution_count": 110,
   "metadata": {},
   "outputs": [
    {
     "data": {
      "text/plain": [
       "(['职业妇女病', '经行失眠', '职业倦怠症', '家庭主妇综征合征', '空巢综合症'],\n",
       " [0.7071067811865475,\n",
       "  0.7071067811865475,\n",
       "  0.7071067811865475,\n",
       "  0.7071067811865475,\n",
       "  0.7071067811865475])"
      ]
     },
     "execution_count": 110,
     "metadata": {},
     "output_type": "execute_result"
    }
   ],
   "source": [
    "zz1 = ['失眠','多梦']\n",
    "zz2disease(zz1)"
   ]
  },
  {
   "cell_type": "code",
   "execution_count": 111,
   "metadata": {},
   "outputs": [
    {
     "data": {
      "text/plain": [
       "(['空巢综合症', '家庭主妇综征合征', '职业倦怠症', '职业妇女病', '小儿透析失衡综合征'],\n",
       " [0.5, 0.5, 0.5, 0.5, 0.5])"
      ]
     },
     "execution_count": 111,
     "metadata": {},
     "output_type": "execute_result"
    }
   ],
   "source": [
    "zz1 = ['失眠','多梦','脑水肿','孕妇嗜睡']\n",
    "zz2disease(zz1)"
   ]
  },
  {
   "cell_type": "code",
   "execution_count": 114,
   "metadata": {},
   "outputs": [
    {
     "data": {
      "text/plain": [
       "(['孕吐', '小儿透析失衡综合征', '脉络膜病变', '新生儿急性肾功能衰竭', '老年人异位抗利尿素分泌综合征'],\n",
       " [0.5, 0.5, 0.35355339059327373, 0.35355339059327373, 0.2886751345948129])"
      ]
     },
     "execution_count": 114,
     "metadata": {},
     "output_type": "execute_result"
    }
   ],
   "source": [
    "zz1 = ['脑水肿','孕妇嗜睡','神经衰弱综合征','眼睛刺痛']\n",
    "zz2disease(zz1)"
   ]
  },
  {
   "cell_type": "code",
   "execution_count": 91,
   "metadata": {},
   "outputs": [
    {
     "data": {
      "text/plain": [
       "(array([0, 1]),)"
      ]
     },
     "execution_count": 91,
     "metadata": {},
     "output_type": "execute_result"
    }
   ],
   "source": [
    "s2.nonzero()"
   ]
  },
  {
   "cell_type": "code",
   "execution_count": 96,
   "metadata": {},
   "outputs": [
    {
     "data": {
      "text/plain": [
       "['颅内动脉瘤', '小儿甲状旁腺功能减退症']"
      ]
     },
     "execution_count": 96,
     "metadata": {},
     "output_type": "execute_result"
    }
   ],
   "source": [
    "list(disseries[s2.iloc[s2.nonzero()].index].values)"
   ]
  },
  {
   "cell_type": "code",
   "execution_count": 35,
   "metadata": {},
   "outputs": [
    {
     "data": {
      "text/plain": [
       "2.23606797749979"
      ]
     },
     "execution_count": 35,
     "metadata": {},
     "output_type": "execute_result"
    }
   ],
   "source": [
    "sqrt(a1.dot(a1))"
   ]
  }
 ],
 "metadata": {
  "kernelspec": {
   "display_name": "Python 3",
   "language": "python",
   "name": "python3"
  },
  "language_info": {
   "codemirror_mode": {
    "name": "ipython",
    "version": 3
   },
   "file_extension": ".py",
   "mimetype": "text/x-python",
   "name": "python",
   "nbconvert_exporter": "python",
   "pygments_lexer": "ipython3",
   "version": "3.6.5"
  }
 },
 "nbformat": 4,
 "nbformat_minor": 2
}
